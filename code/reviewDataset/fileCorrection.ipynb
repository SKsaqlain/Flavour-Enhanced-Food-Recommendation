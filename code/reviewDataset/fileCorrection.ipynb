{
 "cells": [
  {
   "cell_type": "code",
   "execution_count": 1,
   "metadata": {},
   "outputs": [],
   "source": [
    "import tweepy\n",
    "import json\n",
    "import os\n",
    "import pandas as pd"
   ]
  },
  {
   "cell_type": "code",
   "execution_count": 2,
   "metadata": {},
   "outputs": [
    {
     "data": {
      "text/plain": [
       "['dishName.txt']"
      ]
     },
     "execution_count": 2,
     "metadata": {},
     "output_type": "execute_result"
    }
   ],
   "source": [
    "destinationPath=\"D:/FYP/Datasets/food-review\"\n",
    "os.listdir(destinationPath)"
   ]
  },
  {
   "cell_type": "code",
   "execution_count": 3,
   "metadata": {},
   "outputs": [
    {
     "name": "stdout",
     "output_type": "stream",
     "text": [
      "['.ipynb_checkpoints', 'aloo gobi.json', 'aloo matar.json', 'aloo phujia.json', 'apple chutney.json', 'apricot chicken.json', 'baingan bharta.json', 'banana bread.json', 'barbeque chicken.json', 'barley pilaf.json', 'basmati rice.json', 'beef and spinach curry.json', 'beef samosas.json', 'beef vindaloo.json', 'butter chicken.json', 'carrot and cilantro soup.json', 'carrot and peanut salad.json', 'carrot rice.json', 'carrot.json', 'carrots, peas and potatoes.json', 'cauliflower and broccoli soup.json', 'cauliflower and tofu masala.json', 'chai.json', 'chana masala.json', 'channa masala.json', 'chapati.json', 'chicken and rice.json', 'chicken biryani.json', 'chicken chicken curry.json', 'chicken curry.json', 'chicken hariyali tikka.json', 'chicken korma.json', 'chicken makhani.json', 'chicken saag.json', 'chicken stew with coconut milk.json', 'chicken tandoori.json', 'chicken tikka masala.json', 'chicken vindaloo.json', 'chicken.json', 'chickpea curry.json', 'chickpeas.json', 'chilli coconut curry.json', 'chole saag.json', 'coconut chutney.json', 'coconut curry.json', 'coconut fish curry.json', 'coconut rice.json', 'coconut vegetarian curry.json', 'cod curry.json', 'cucumber peanut salad.json', 'cucumber raita.json', 'cucumber-cilantro raita.json', 'cupcakes.json', 'curried cauliflower soup.json', 'curried cauliflower.json', 'curried chicken and potatoes.json', 'curried chicken and rice.json', 'curried chicken.json', 'curried chickpeas.json', 'curried corn.json', 'curried cumin potatoes.json', 'curried green bean salad.json', 'curried mango chicken.json', 'curried peas.json', 'curry powder.json', 'curry sauce.json', 'curry.json', 'dal makhani.json', 'dal with spinach.json', 'dal.json', 'fileCorrection.ipynb', 'fish curry.json', 'garam masala.json', 'gobi masala.json', 'green beans.json', 'green chutney.json', 'gulab jamun.json', 'hot turmeric milk.json', 'indian tandoori chicken.json', 'jeera fried rice.json', 'jeera rice.json', 'kashmiri lamb.json', 'keema aloo.json', 'keema.json', 'kheer.json', 'korma.json', 'kulfi.json', 'lamb biryani.json', 'lamb madras curry.json', 'lamb shanks.json', 'mango lassi.json', 'masoor daal.json', 'masoor dal.json', 'moong dal.json', 'mulligatawny soup.json', 'naan.json', 'okra curry.json', 'palak paneer.json', 'paneer.json', 'paratha.json', 'pav bhaji.json', 'peanut rice.json', 'peanut stew.json', 'peas and cauliflower.json', 'pork chops.json', 'pork loin.json', 'potato curry.json', 'potatoes madras.json', 'potatoes.json', 'pulao.json', 'punjabi chicken gravy.json', 'raita.json', 'rajma.json', 'red lentil curry.json', 'relish.json', 'rice pilaf.json', 'roomali roti.json', 'roti.json', 'saag paneer.json', 'saag.json', 'saffron rice.json', 'samosa.json', 'samosas.json', 'shahi paneer.json', 'sherry chicken curry.json', 'shrimp curry.json', 'spiced rice.json', 'spiced tomato lentil soup.json', 'spicy chicken and mango curry.json', 'spicy chicken curry.json', 'spicy eggplant.json', 'spicy peach chutney.json', 'spicy roasted chickpeas.json', 'spicy sweet potato salad.json', 'spicy vegan potato curry.json', 'strawberry lassi.json', 'sweet bread.json', 'sweet potato and lentil soup.json', 'sweet potato samosas.json', 'sweet tamarind chutney.json', 'tandoori chicken.json', 'tandoori fish.json', 'tofu keema.json', 'tofu vindaloo.json', 'tomato chicken.json', 'vegetable bhaji.json', 'vegetable biryani.json', 'vegetable masala.json', 'vegetable pakoras.json', 'vegetable rice.json', 'vegetarian korma.json', 'veggie samosas.json']\n"
     ]
    }
   ],
   "source": [
    "sourcePath=\".\"\n",
    "rawFileNames=os.listdir(sourcePath)\n",
    "print(rawFileNames)"
   ]
  },
  {
   "cell_type": "code",
   "execution_count": 10,
   "metadata": {},
   "outputs": [
    {
     "name": "stdout",
     "output_type": "stream",
     "text": [
      "['.ipynb_checkpoints', 'aloo gobi.json', 'aloo matar.json', 'aloo phujia.json', 'apple chutney.json', 'apricot chicken.json', 'baingan bharta.json', 'banana bread.json', 'barbeque chicken.json', 'barley pilaf.json', 'basmati rice.json', 'beef and spinach curry.json', 'beef samosas.json', 'beef vindaloo.json', 'butter chicken.json', 'carrot and cilantro soup.json', 'carrot and peanut salad.json', 'carrot rice.json', 'carrot.json', 'carrots, peas and potatoes.json', 'cauliflower and broccoli soup.json', 'cauliflower and tofu masala.json', 'chai.json', 'chana masala.json', 'channa masala.json', 'chapati.json', 'chicken and rice.json', 'chicken biryani.json', 'chicken chicken curry.json', 'chicken curry.json', 'chicken hariyali tikka.json', 'chicken korma.json', 'chicken makhani.json', 'chicken saag.json', 'chicken stew with coconut milk.json', 'chicken tandoori.json', 'chicken tikka masala.json', 'chicken vindaloo.json', 'chicken.json', 'chickpea curry.json', 'chickpeas.json', 'chilli coconut curry.json', 'chole saag.json', 'coconut chutney.json', 'coconut curry.json', 'coconut fish curry.json', 'coconut rice.json', 'coconut vegetarian curry.json', 'cod curry.json', 'cucumber peanut salad.json', 'cucumber raita.json', 'cucumber-cilantro raita.json', 'cupcakes.json', 'curried cauliflower soup.json', 'curried cauliflower.json', 'curried chicken and potatoes.json', 'curried chicken and rice.json', 'curried chicken.json', 'curried chickpeas.json', 'curried corn.json', 'curried cumin potatoes.json', 'curried green bean salad.json', 'curried mango chicken.json', 'curried peas.json', 'curry powder.json', 'curry sauce.json', 'curry.json', 'dal makhani.json', 'dal with spinach.json', 'dal.json', 'fileCorrection.ipynb', 'fish curry.json', 'garam masala.json', 'gobi masala.json', 'green beans.json', 'green chutney.json', 'gulab jamun.json', 'hot turmeric milk.json', 'indian tandoori chicken.json', 'jeera fried rice.json', 'jeera rice.json', 'kashmiri lamb.json', 'keema aloo.json', 'keema.json', 'kheer.json', 'korma.json', 'kulfi.json', 'lamb biryani.json', 'lamb madras curry.json', 'lamb shanks.json', 'mango lassi.json', 'masoor daal.json', 'masoor dal.json', 'moong dal.json', 'mulligatawny soup.json', 'naan.json', 'okra curry.json', 'palak paneer.json', 'paneer.json', 'paratha.json', 'pav bhaji.json', 'peanut rice.json', 'peanut stew.json', 'peas and cauliflower.json', 'pork chops.json', 'pork loin.json', 'potato curry.json', 'potatoes madras.json', 'potatoes.json', 'pulao.json', 'punjabi chicken gravy.json', 'raita.json', 'rajma.json', 'red lentil curry.json', 'relish.json', 'rice pilaf.json', 'roomali roti.json', 'roti.json', 'saag paneer.json', 'saag.json', 'saffron rice.json', 'samosa.json', 'samosas.json', 'shahi paneer.json', 'sherry chicken curry.json', 'shrimp curry.json', 'spiced rice.json', 'spiced tomato lentil soup.json', 'spicy chicken and mango curry.json', 'spicy chicken curry.json', 'spicy eggplant.json', 'spicy peach chutney.json', 'spicy roasted chickpeas.json', 'spicy sweet potato salad.json', 'spicy vegan potato curry.json', 'strawberry lassi.json', 'sweet bread.json', 'sweet potato and lentil soup.json', 'sweet potato samosas.json', 'sweet tamarind chutney.json', 'tandoori chicken.json', 'tandoori fish.json', 'tofu keema.json', 'tofu vindaloo.json', 'tomato chicken.json', 'vegetable bhaji.json', 'vegetable biryani.json', 'vegetable masala.json', 'vegetable pakoras.json', 'vegetable rice.json', 'vegetarian korma.json', 'veggie samosas.json']\n"
     ]
    }
   ],
   "source": [
    "\n",
    "print(rawFileNames)\n",
    "for ele in rawFileNames:\n",
    "    if(ele.endswith(\".json\")):\n",
    "        with open(ele,'r') as f:\n",
    "            rawData=f.readlines()\n",
    "            rawData=\"\".join(rawData)\n",
    "            rawData=rawData.replace(\"][\",\"],[\")\n",
    "            rawData=\"[\"+rawData+\"]\"\n",
    "            rawData=json.loads(rawData)\n",
    "            #print(rawData)\n",
    "            filename=ele.replace(\" \",\"-\")\n",
    "            destinationFile=open(destinationPath+\"/\"+filename,\"w\")\n",
    "            json.dump(rawData,destinationFile)"
   ]
  },
  {
   "cell_type": "code",
   "execution_count": null,
   "metadata": {},
   "outputs": [],
   "source": []
  }
 ],
 "metadata": {
  "kernelspec": {
   "display_name": "Python [conda env:fyp] *",
   "language": "python",
   "name": "conda-env-fyp-py"
  },
  "language_info": {
   "codemirror_mode": {
    "name": "ipython",
    "version": 3
   },
   "file_extension": ".py",
   "mimetype": "text/x-python",
   "name": "python",
   "nbconvert_exporter": "python",
   "pygments_lexer": "ipython3",
   "version": "3.6.9"
  }
 },
 "nbformat": 4,
 "nbformat_minor": 4
}
