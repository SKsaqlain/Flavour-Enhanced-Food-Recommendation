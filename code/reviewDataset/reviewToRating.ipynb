{
 "cells": [
  {
   "cell_type": "code",
   "execution_count": 19,
   "metadata": {},
   "outputs": [],
   "source": [
    "from nltk.sentiment.vader import SentimentIntensityAnalyzer\n",
    "from textblob import TextBlob\n",
    "from nltk import tokenize\n",
    "import tweepy\n",
    "import json\n",
    "import pandas as pd\n",
    "import math"
   ]
  },
  {
   "cell_type": "code",
   "execution_count": 7,
   "metadata": {},
   "outputs": [],
   "source": [
    "import os\n",
    "sourcePath=\"D:/FYP/Datasets/food-review\"\n",
    "fileNames=os.listdir(sourcePath)\n",
    "#os.listdir(sourcePath)"
   ]
  },
  {
   "cell_type": "code",
   "execution_count": 21,
   "metadata": {},
   "outputs": [
    {
     "name": "stdout",
     "output_type": "stream",
     "text": [
      "veggie-samosas.json\n"
     ]
    }
   ],
   "source": [
    "\n",
    "#function that calculates rating using VADER packagae \n",
    "def get_star_rating(review):\n",
    "    sentences=tokenize.sent_tokenize(review)\n",
    "    sid=SentimentIntensityAnalyzer()\n",
    "    avg_sentiment=0;\n",
    "\n",
    "    for sentence in sentences:\n",
    "        avg_sentiment=avg_sentiment+sid.polarity_scores(sentence)['compound']\n",
    "    avg_sentiment=avg_sentiment/len(sentences);\n",
    "    new_avg=((avg_sentiment-(-1))*(5-0))/(1-(-1))+0\n",
    "    #print(avg_sentiment)\n",
    "    #print(new_avg)\n",
    "    return math.ceil(new_avg)\n",
    "\n",
    "reviewWithRating={\"food_item\":[],\"user_id\":[],\"review\":[],\"rating\":[]}\n",
    "\n",
    "#there's some problem with veggie-samosas.json file\n",
    "for ele in fileNames:\n",
    "    try:\n",
    "        if(ele.endswith(\".json\")):\n",
    "            with open(sourcePath+\"/\"+ele,'r') as f:\n",
    "                rawData=json.load(f)\n",
    "                for tweet in rawData:\n",
    "                    reviewWithRating[\"food_item\"].append(tweet[0])\n",
    "                    reviewWithRating[\"user_id\"].append(tweet[1])\n",
    "                    reviewWithRating[\"review\"].append(tweet[2])\n",
    "                    reviewWithRating[\"rating\"].append(get_star_rating(tweet[2]))\n",
    "    except:\n",
    "        print(ele)"
   ]
  },
  {
   "cell_type": "code",
   "execution_count": 27,
   "metadata": {},
   "outputs": [],
   "source": [
    "df=pd.DataFrame.from_dict(reviewWithRating)"
   ]
  },
  {
   "cell_type": "code",
   "execution_count": 30,
   "metadata": {},
   "outputs": [
    {
     "data": {
      "text/html": [
       "<div>\n",
       "<style scoped>\n",
       "    .dataframe tbody tr th:only-of-type {\n",
       "        vertical-align: middle;\n",
       "    }\n",
       "\n",
       "    .dataframe tbody tr th {\n",
       "        vertical-align: top;\n",
       "    }\n",
       "\n",
       "    .dataframe thead th {\n",
       "        text-align: right;\n",
       "    }\n",
       "</style>\n",
       "<table border=\"1\" class=\"dataframe\">\n",
       "  <thead>\n",
       "    <tr style=\"text-align: right;\">\n",
       "      <th></th>\n",
       "      <th>food_item</th>\n",
       "      <th>user_id</th>\n",
       "      <th>review</th>\n",
       "      <th>rating</th>\n",
       "    </tr>\n",
       "  </thead>\n",
       "  <tbody>\n",
       "    <tr>\n",
       "      <th>0</th>\n",
       "      <td>aloo gobi</td>\n",
       "      <td>29531918</td>\n",
       "      <td>V good thread https://t.co/usE99l02iY</td>\n",
       "      <td>4</td>\n",
       "    </tr>\n",
       "    <tr>\n",
       "      <th>1</th>\n",
       "      <td>aloo gobi</td>\n",
       "      <td>29531918</td>\n",
       "      <td>RT @lolacoaster: Joker is this generation’s Fi...</td>\n",
       "      <td>2</td>\n",
       "    </tr>\n",
       "    <tr>\n",
       "      <th>2</th>\n",
       "      <td>aloo gobi</td>\n",
       "      <td>29531918</td>\n",
       "      <td>Omg what makes you beautiful is playing on the...</td>\n",
       "      <td>5</td>\n",
       "    </tr>\n",
       "    <tr>\n",
       "      <th>3</th>\n",
       "      <td>aloo gobi</td>\n",
       "      <td>29531918</td>\n",
       "      <td>@Baqir_Kh Hahahahahaha! Golden ratio of white ...</td>\n",
       "      <td>3</td>\n",
       "    </tr>\n",
       "    <tr>\n",
       "      <th>4</th>\n",
       "      <td>aloo gobi</td>\n",
       "      <td>29531918</td>\n",
       "      <td>RT @UsmanAhmad_iam: Why are Pakistanis so comp...</td>\n",
       "      <td>2</td>\n",
       "    </tr>\n",
       "  </tbody>\n",
       "</table>\n",
       "</div>"
      ],
      "text/plain": [
       "   food_item   user_id                                             review  \\\n",
       "0  aloo gobi  29531918              V good thread https://t.co/usE99l02iY   \n",
       "1  aloo gobi  29531918  RT @lolacoaster: Joker is this generation’s Fi...   \n",
       "2  aloo gobi  29531918  Omg what makes you beautiful is playing on the...   \n",
       "3  aloo gobi  29531918  @Baqir_Kh Hahahahahaha! Golden ratio of white ...   \n",
       "4  aloo gobi  29531918  RT @UsmanAhmad_iam: Why are Pakistanis so comp...   \n",
       "\n",
       "   rating  \n",
       "0       4  \n",
       "1       2  \n",
       "2       5  \n",
       "3       3  \n",
       "4       2  "
      ]
     },
     "execution_count": 30,
     "metadata": {},
     "output_type": "execute_result"
    }
   ],
   "source": [
    "df.head()"
   ]
  },
  {
   "cell_type": "code",
   "execution_count": 31,
   "metadata": {},
   "outputs": [],
   "source": [
    "df.to_csv(r'D:/FYP/Datasets/reviewWithRating.csv')"
   ]
  },
  {
   "cell_type": "code",
   "execution_count": null,
   "metadata": {},
   "outputs": [],
   "source": []
  }
 ],
 "metadata": {
  "kernelspec": {
   "display_name": "Python [conda env:fyp] *",
   "language": "python",
   "name": "conda-env-fyp-py"
  },
  "language_info": {
   "codemirror_mode": {
    "name": "ipython",
    "version": 3
   },
   "file_extension": ".py",
   "mimetype": "text/x-python",
   "name": "python",
   "nbconvert_exporter": "python",
   "pygments_lexer": "ipython3",
   "version": "3.6.9"
  }
 },
 "nbformat": 4,
 "nbformat_minor": 4
}
