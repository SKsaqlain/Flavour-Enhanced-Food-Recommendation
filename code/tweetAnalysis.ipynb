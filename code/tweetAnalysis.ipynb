{
 "cells": [
  {
   "cell_type": "code",
   "execution_count": null,
   "metadata": {},
   "outputs": [],
   "source": [
    "import pandas as pd\n",
    "import numpy as np\n",
    "import os\n",
    "import matplotlib.pyplot as plt\n",
    "import math"
   ]
  },
  {
   "cell_type": "code",
   "execution_count": 6,
   "metadata": {},
   "outputs": [
    {
     "data": {
      "text/plain": [
       "['reviewWithRating.csv']"
      ]
     },
     "execution_count": 6,
     "metadata": {},
     "output_type": "execute_result"
    }
   ],
   "source": [
    "os.listdir(\"../dataset/twitterReviews\")"
   ]
  },
  {
   "cell_type": "code",
   "execution_count": 7,
   "metadata": {},
   "outputs": [],
   "source": [
    "df=pd.read_csv(\"../dataset/twitterReviews/reviewWithRating.csv\")"
   ]
  },
  {
   "cell_type": "code",
   "execution_count": 8,
   "metadata": {},
   "outputs": [
    {
     "data": {
      "text/html": [
       "<div>\n",
       "<style scoped>\n",
       "    .dataframe tbody tr th:only-of-type {\n",
       "        vertical-align: middle;\n",
       "    }\n",
       "\n",
       "    .dataframe tbody tr th {\n",
       "        vertical-align: top;\n",
       "    }\n",
       "\n",
       "    .dataframe thead th {\n",
       "        text-align: right;\n",
       "    }\n",
       "</style>\n",
       "<table border=\"1\" class=\"dataframe\">\n",
       "  <thead>\n",
       "    <tr style=\"text-align: right;\">\n",
       "      <th></th>\n",
       "      <th>Unnamed: 0</th>\n",
       "      <th>food_item</th>\n",
       "      <th>user_id</th>\n",
       "      <th>review</th>\n",
       "      <th>rating</th>\n",
       "    </tr>\n",
       "  </thead>\n",
       "  <tbody>\n",
       "    <tr>\n",
       "      <th>0</th>\n",
       "      <td>0</td>\n",
       "      <td>acai fruit bowl</td>\n",
       "      <td>1224454656832823296</td>\n",
       "      <td>Nothing makes me cringe like a grown man cutti...</td>\n",
       "      <td>3</td>\n",
       "    </tr>\n",
       "    <tr>\n",
       "      <th>1</th>\n",
       "      <td>1</td>\n",
       "      <td>acai fruit bowl</td>\n",
       "      <td>3030436819</td>\n",
       "      <td>An Açaí bowl or fruit is the best way to start...</td>\n",
       "      <td>5</td>\n",
       "    </tr>\n",
       "    <tr>\n",
       "      <th>2</th>\n",
       "      <td>2</td>\n",
       "      <td>acai fruit bowl</td>\n",
       "      <td>972517243107053571</td>\n",
       "      <td>Açaí bowls are the rip off of the century. The...</td>\n",
       "      <td>3</td>\n",
       "    </tr>\n",
       "    <tr>\n",
       "      <th>3</th>\n",
       "      <td>3</td>\n",
       "      <td>acai fruit bowl</td>\n",
       "      <td>738097331925553152</td>\n",
       "      <td>Breakfast in bed? Sure! Dessert in bed? You be...</td>\n",
       "      <td>3</td>\n",
       "    </tr>\n",
       "    <tr>\n",
       "      <th>4</th>\n",
       "      <td>4</td>\n",
       "      <td>acai fruit bowl</td>\n",
       "      <td>42722903</td>\n",
       "      <td>The original Acai Bowl 🔥\\r\\n\\r\\n#acai #acaibow...</td>\n",
       "      <td>4</td>\n",
       "    </tr>\n",
       "  </tbody>\n",
       "</table>\n",
       "</div>"
      ],
      "text/plain": [
       "   Unnamed: 0        food_item              user_id  \\\n",
       "0           0  acai fruit bowl  1224454656832823296   \n",
       "1           1  acai fruit bowl           3030436819   \n",
       "2           2  acai fruit bowl   972517243107053571   \n",
       "3           3  acai fruit bowl   738097331925553152   \n",
       "4           4  acai fruit bowl             42722903   \n",
       "\n",
       "                                              review  rating  \n",
       "0  Nothing makes me cringe like a grown man cutti...       3  \n",
       "1  An Açaí bowl or fruit is the best way to start...       5  \n",
       "2  Açaí bowls are the rip off of the century. The...       3  \n",
       "3  Breakfast in bed? Sure! Dessert in bed? You be...       3  \n",
       "4  The original Acai Bowl 🔥\\r\\n\\r\\n#acai #acaibow...       4  "
      ]
     },
     "execution_count": 8,
     "metadata": {},
     "output_type": "execute_result"
    }
   ],
   "source": [
    "df.head()"
   ]
  },
  {
   "cell_type": "code",
   "execution_count": 18,
   "metadata": {},
   "outputs": [
    {
     "name": "stdout",
     "output_type": "stream",
     "text": [
      "713371571151380480     79\n",
      "250713204              58\n",
      "2594871012             54\n",
      "68191702               45\n",
      "1150308438586433536    40\n",
      "                       ..\n",
      "1026005546              1\n",
      "920503375               1\n",
      "932953770203516928      1\n",
      "2444053059              1\n",
      "21954560                1\n",
      "Name: user_id, Length: 22015, dtype: int64\n"
     ]
    }
   ],
   "source": [
    "uniUsr=list(set(df[\"user_id\"]))\n",
    "uniUsrCnt=df[\"user_id\"].value_counts()\n"
   ]
  },
  {
   "cell_type": "code",
   "execution_count": 63,
   "metadata": {},
   "outputs": [
    {
     "name": "stdout",
     "output_type": "stream",
     "text": [
      "Total number of users with 1 review =  19382\n",
      "Total number of users =  27442 =>  70.62896290357845 %\n",
      "Average number of times that hte user has rated =  1.2465137406313878\n"
     ]
    }
   ],
   "source": [
    "usr1Rv=sum([uniUsrCnt[ele]==1 for ele in uniUsr])\n",
    "\n",
    "print(\"Total number of users with 1 review = \",usr1Rv)\n",
    "print(\"Total number of users = \",len(df),\"=> \",usr1Rv/len(df)*100,\"%\") \n",
    "print(\"Average number of times that hte user has rated = \",np.average(uniUsrCnt))"
   ]
  },
  {
   "cell_type": "code",
   "execution_count": 64,
   "metadata": {},
   "outputs": [
    {
     "name": "stdout",
     "output_type": "stream",
     "text": [
      "3    15699\n",
      "4     7792\n",
      "5     1870\n",
      "2     1815\n",
      "1      266\n",
      "Name: rating, dtype: int64\n",
      "\n",
      "Average review rating =  3.334705925224109\n"
     ]
    }
   ],
   "source": [
    "reviewRating=df[\"rating\"].value_counts()\n",
    "print(reviewRating)\n",
    "print(\"\\nAverage review rating = \",sum([ele*reviewRating[ele] for ele in range(1,6)])/sum(reviewRating))"
   ]
  },
  {
   "cell_type": "code",
   "execution_count": 59,
   "metadata": {},
   "outputs": [
    {
     "name": "stdout",
     "output_type": "stream",
     "text": [
      "3    15699\n",
      "4     7792\n",
      "5     1870\n",
      "2     1815\n",
      "1      266\n",
      "Name: rating, dtype: int64\n",
      "\n",
      "Average review rating =  3.334705925224109\n"
     ]
    },
    {
     "data": {
      "image/png": "[encoded data removed]",
      "text/plain": [
       "<Figure size 432x288 with 1 Axes>"
      ]
     },
     "metadata": {
      "needs_background": "light"
     },
     "output_type": "display_data"
    }
   ],
   "source": [
    "\n",
    "plt.bar([ele for ele in range(1,6)],[reviewRating[ele] for ele in range(1,6)])\n",
    "plt.show()"
   ]
  },
  {
   "cell_type": "code",
   "execution_count": null,
   "metadata": {},
   "outputs": [],
   "source": []
  }
 ],
 "metadata": {
  "kernelspec": {
   "display_name": "Python [conda env:fyp] *",
   "language": "python",
   "name": "conda-env-fyp-py"
  },
  "language_info": {
   "codemirror_mode": {
    "name": "ipython",
    "version": 3
   },
   "file_extension": ".py",
   "mimetype": "text/x-python",
   "name": "python",
   "nbconvert_exporter": "python",
   "pygments_lexer": "ipython3",
   "version": "3.6.9"
  }
 },
 "nbformat": 4,
 "nbformat_minor": 4
}
