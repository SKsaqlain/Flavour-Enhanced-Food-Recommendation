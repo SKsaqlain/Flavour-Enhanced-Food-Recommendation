{
 "cells": [
  {
   "cell_type": "code",
   "execution_count": 1,
   "metadata": {},
   "outputs": [],
   "source": [
    "import numpy as np\n",
    "import pandas as pd\n",
    "from sklearn.feature_extraction.text import TfidfVectorizer\n"
   ]
  },
  {
   "cell_type": "code",
   "execution_count": 3,
   "metadata": {},
   "outputs": [
    {
     "data": {
      "text/html": [
       "<div>\n",
       "<style scoped>\n",
       "    .dataframe tbody tr th:only-of-type {\n",
       "        vertical-align: middle;\n",
       "    }\n",
       "\n",
       "    .dataframe tbody tr th {\n",
       "        vertical-align: top;\n",
       "    }\n",
       "\n",
       "    .dataframe thead th {\n",
       "        text-align: right;\n",
       "    }\n",
       "</style>\n",
       "<table border=\"1\" class=\"dataframe\">\n",
       "  <thead>\n",
       "    <tr style=\"text-align: right;\">\n",
       "      <th></th>\n",
       "      <th>Unnamed: 0</th>\n",
       "      <th>user_id</th>\n",
       "      <th>food_id</th>\n",
       "      <th>rating</th>\n",
       "      <th>userReviews</th>\n",
       "      <th>foodReviews</th>\n",
       "    </tr>\n",
       "  </thead>\n",
       "  <tbody>\n",
       "    <tr>\n",
       "      <th>0</th>\n",
       "      <td>0</td>\n",
       "      <td>9974</td>\n",
       "      <td>998</td>\n",
       "      <td>5</td>\n",
       "      <td>['delicious', 'and', 'easy', 'to', 'make']</td>\n",
       "      <td>['delicious', 'and', 'easy', 'to', 'make']</td>\n",
       "    </tr>\n",
       "    <tr>\n",
       "      <th>1</th>\n",
       "      <td>1</td>\n",
       "      <td>10340</td>\n",
       "      <td>998</td>\n",
       "      <td>5</td>\n",
       "      <td>['feeling', 'healthy', 'great', 'replication',...</td>\n",
       "      <td>['delicious', 'and', 'easy', 'to', 'make']</td>\n",
       "    </tr>\n",
       "    <tr>\n",
       "      <th>2</th>\n",
       "      <td>2</td>\n",
       "      <td>12047</td>\n",
       "      <td>998</td>\n",
       "      <td>5</td>\n",
       "      <td>['yum', 'will', 'make', 'again']</td>\n",
       "      <td>['delicious', 'and', 'easy', 'to', 'make']</td>\n",
       "    </tr>\n",
       "    <tr>\n",
       "      <th>3</th>\n",
       "      <td>3</td>\n",
       "      <td>13451</td>\n",
       "      <td>998</td>\n",
       "      <td>5</td>\n",
       "      <td>['turned', 'out', 'great', 'i', 'added', 'pean...</td>\n",
       "      <td>['delicious', 'and', 'easy', 'to', 'make']</td>\n",
       "    </tr>\n",
       "    <tr>\n",
       "      <th>4</th>\n",
       "      <td>8</td>\n",
       "      <td>18226</td>\n",
       "      <td>998</td>\n",
       "      <td>5</td>\n",
       "      <td>['fantastic', 'tasting', 'completely', 'simple...</td>\n",
       "      <td>['delicious', 'and', 'easy', 'to', 'make']</td>\n",
       "    </tr>\n",
       "  </tbody>\n",
       "</table>\n",
       "</div>"
      ],
      "text/plain": [
       "   Unnamed: 0  user_id food_id  rating  \\\n",
       "0           0     9974     998       5   \n",
       "1           1    10340     998       5   \n",
       "2           2    12047     998       5   \n",
       "3           3    13451     998       5   \n",
       "4           8    18226     998       5   \n",
       "\n",
       "                                         userReviews  \\\n",
       "0         ['delicious', 'and', 'easy', 'to', 'make']   \n",
       "1  ['feeling', 'healthy', 'great', 'replication',...   \n",
       "2                   ['yum', 'will', 'make', 'again']   \n",
       "3  ['turned', 'out', 'great', 'i', 'added', 'pean...   \n",
       "4  ['fantastic', 'tasting', 'completely', 'simple...   \n",
       "\n",
       "                                  foodReviews  \n",
       "0  ['delicious', 'and', 'easy', 'to', 'make']  \n",
       "1  ['delicious', 'and', 'easy', 'to', 'make']  \n",
       "2  ['delicious', 'and', 'easy', 'to', 'make']  \n",
       "3  ['delicious', 'and', 'easy', 'to', 'make']  \n",
       "4  ['delicious', 'and', 'easy', 'to', 'make']  "
      ]
     },
     "execution_count": 3,
     "metadata": {},
     "output_type": "execute_result"
    }
   ],
   "source": [
    "raw_data=pd.read_csv('unembedded_grouped_cleaned_data.csv')\n",
    "raw_data.head()\n"
   ]
  },
  {
   "cell_type": "code",
   "execution_count": 9,
   "metadata": {},
   "outputs": [],
   "source": [
    "userReview=raw_data[\"userReviews\"]\n",
    "itemReviews=raw_data[[\"user_id\",\"foodReviews\"]]"
   ]
  },
  {
   "cell_type": "code",
   "execution_count": 13,
   "metadata": {},
   "outputs": [
    {
     "name": "stdout",
     "output_type": "stream",
     "text": [
      "0           ['delicious', 'and', 'easy', 'to', 'make']\n",
      "1    ['feeling', 'healthy', 'great', 'replication',...\n",
      "2                     ['yum', 'will', 'make', 'again']\n",
      "3    ['turned', 'out', 'great', 'i', 'added', 'pean...\n",
      "4    ['fantastic', 'tasting', 'completely', 'simple...\n",
      "Name: userReviews, dtype: object\n",
      "--------------------------------------------------\n",
      "   user_id                                 foodReviews\n",
      "0     9974  ['delicious', 'and', 'easy', 'to', 'make']\n",
      "1    10340  ['delicious', 'and', 'easy', 'to', 'make']\n",
      "2    12047  ['delicious', 'and', 'easy', 'to', 'make']\n",
      "3    13451  ['delicious', 'and', 'easy', 'to', 'make']\n",
      "4    18226  ['delicious', 'and', 'easy', 'to', 'make']\n"
     ]
    }
   ],
   "source": [
    "print(userReview.head())\n",
    "print(\"-\"*50)\n",
    "print(itemReviews.head())"
   ]
  },
  {
   "cell_type": "code",
   "execution_count": 15,
   "metadata": {},
   "outputs": [
    {
     "name": "stdout",
     "output_type": "stream",
     "text": [
      "241\n"
     ]
    }
   ],
   "source": [
    "unique_words=[]\n",
    "for ele in userReview:\n",
    "    unique_words.extend(ele)\n",
    "unique_words=list(set(unique_words))\n",
    "print(len(unique_words))"
   ]
  },
  {
   "cell_type": "code",
   "execution_count": 17,
   "metadata": {},
   "outputs": [
    {
     "name": "stdout",
     "output_type": "stream",
     "text": [
      "(58283, 241)\n"
     ]
    }
   ],
   "source": [
    "tfidf=TfidfVectorizer(max_features=241)\n",
    "tfidf.fit(list(userReview))\n",
    "tfidf_features=tfidf.transform(list(userReview))\n",
    "print(tfidf_features.shape)"
   ]
  },
  {
   "cell_type": "code",
   "execution_count": 18,
   "metadata": {},
   "outputs": [
    {
     "data": {
      "text/plain": [
       "<1x241 sparse matrix of type '<class 'numpy.float64'>'\n",
       "\twith 5 stored elements in Compressed Sparse Row format>"
      ]
     },
     "execution_count": 18,
     "metadata": {},
     "output_type": "execute_result"
    }
   ],
   "source": [
    "newUserReviews=tfidf_features\n",
    "newItemReviews=[]\n"
   ]
  },
  {
   "cell_type": "code",
   "execution_count": 19,
   "metadata": {},
   "outputs": [
    {
     "name": "stdout",
     "output_type": "stream",
     "text": [
      "<class 'scipy.sparse.csr.csr_matrix'>\n"
     ]
    }
   ],
   "source": [
    "print(type(tfidf_features))"
   ]
  },
  {
   "cell_type": "code",
   "execution_count": null,
   "metadata": {},
   "outputs": [],
   "source": []
  }
 ],
 "metadata": {
  "kernelspec": {
   "display_name": "Python [conda env:fyp] *",
   "language": "python",
   "name": "conda-env-fyp-py"
  },
  "language_info": {
   "codemirror_mode": {
    "name": "ipython",
    "version": 3
   },
   "file_extension": ".py",
   "mimetype": "text/x-python",
   "name": "python",
   "nbconvert_exporter": "python",
   "pygments_lexer": "ipython3",
   "version": "3.6.9"
  }
 },
 "nbformat": 4,
 "nbformat_minor": 4
}
