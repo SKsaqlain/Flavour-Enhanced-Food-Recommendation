{
 "cells": [
  {
   "cell_type": "code",
   "execution_count": 2,
   "metadata": {},
   "outputs": [],
   "source": [
    "import os\n",
    "import numpy as np\n",
    "import matplotlib.pyplot as plt\n",
    "import pandas as  pd"
   ]
  },
  {
   "cell_type": "code",
   "execution_count": 3,
   "metadata": {},
   "outputs": [
    {
     "data": {
      "text/plain": [
       "['database.csv',\n",
       " 'food-User-Review-Rating.csv',\n",
       " 'id_name_mapping.csv',\n",
       " 'ingredients.json',\n",
       " 'ingToChemMap.csv',\n",
       " 'newDatabase.csv',\n",
       " 'newReview.csv',\n",
       " 'review.csv',\n",
       " 'reviewWithRating.csv',\n",
       " 'sample',\n",
       " 'twitterReviews',\n",
       " 'userToIdMap.csv',\n",
       " 'Utilities',\n",
       " 'yummlyReviews',\n",
       " 'yummlyUserReview.csv']"
      ]
     },
     "execution_count": 3,
     "metadata": {},
     "output_type": "execute_result"
    }
   ],
   "source": [
    "os.listdir(\"../dataset\")"
   ]
  },
  {
   "cell_type": "code",
   "execution_count": 4,
   "metadata": {},
   "outputs": [],
   "source": [
    "foodDb=pd.read_csv(\"../dataset/database.csv\",names=[\"id\",\"ing\"])"
   ]
  },
  {
   "cell_type": "code",
   "execution_count": 5,
   "metadata": {},
   "outputs": [],
   "source": [
    "allIng=[ele.split(\"|\")[0] for ele in foodDb.ing]"
   ]
  },
  {
   "cell_type": "code",
   "execution_count": 6,
   "metadata": {},
   "outputs": [],
   "source": [
    "allIng=list(set(allIng))"
   ]
  },
  {
   "cell_type": "code",
   "execution_count": 7,
   "metadata": {},
   "outputs": [
    {
     "name": "stdout",
     "output_type": "stream",
     "text": [
      "['asafoetida', 'bottlegourd', 'fennel', 'fries', 'mayonnaise', 'cumin', 'barley', 'brie', 'chocolate', 'cheddar']\n",
      "total number of dishes  98\n"
     ]
    }
   ],
   "source": [
    "print(allIng[:10])\n",
    "print(\"total number of dishes \",len(allIng))"
   ]
  },
  {
   "cell_type": "code",
   "execution_count": 8,
   "metadata": {},
   "outputs": [
    {
     "data": {
      "text/plain": [
       "['food-User-Review-Rating.csv',\n",
       " 'id_name_mapping.csv',\n",
       " 'newDatabase.csv',\n",
       " 'newReview.csv',\n",
       " 'tastes.csv',\n",
       " 'tfidf_final_scores.pickle']"
      ]
     },
     "execution_count": 8,
     "metadata": {},
     "output_type": "execute_result"
    }
   ],
   "source": [
    "os.listdir(\"../dataset/Utilities\")"
   ]
  },
  {
   "cell_type": "code",
   "execution_count": 9,
   "metadata": {},
   "outputs": [],
   "source": [
    "flavonoid=pd.read_csv(\"../dataset/Utilities/newDatabase.csv\",names=[\"id\",\"chem\"])"
   ]
  },
  {
   "cell_type": "code",
   "execution_count": 10,
   "metadata": {},
   "outputs": [
    {
     "data": {
      "text/html": [
       "<div>\n",
       "<style scoped>\n",
       "    .dataframe tbody tr th:only-of-type {\n",
       "        vertical-align: middle;\n",
       "    }\n",
       "\n",
       "    .dataframe tbody tr th {\n",
       "        vertical-align: top;\n",
       "    }\n",
       "\n",
       "    .dataframe thead th {\n",
       "        text-align: right;\n",
       "    }\n",
       "</style>\n",
       "<table border=\"1\" class=\"dataframe\">\n",
       "  <thead>\n",
       "    <tr style=\"text-align: right;\">\n",
       "      <th></th>\n",
       "      <th>id</th>\n",
       "      <th>chem</th>\n",
       "    </tr>\n",
       "  </thead>\n",
       "  <tbody>\n",
       "    <tr>\n",
       "      <th>0</th>\n",
       "      <td>1</td>\n",
       "      <td>Ethyl Lactate|3,4-Dihydroxybenzaldehyde|DL-Liq...</td>\n",
       "    </tr>\n",
       "    <tr>\n",
       "      <th>1</th>\n",
       "      <td>2</td>\n",
       "      <td>AC1LDI49|56424-87-4|3,4-Dihydroxybenzaldehyde|...</td>\n",
       "    </tr>\n",
       "    <tr>\n",
       "      <th>2</th>\n",
       "      <td>3</td>\n",
       "      <td>3-Methyl-1-butanol|Thymol|2-Nonanone|Pyrrolidi...</td>\n",
       "    </tr>\n",
       "    <tr>\n",
       "      <th>3</th>\n",
       "      <td>4</td>\n",
       "      <td>AC1LDI49|56424-87-4|2-Hexenyl propanoate|3,4-D...</td>\n",
       "    </tr>\n",
       "    <tr>\n",
       "      <th>4</th>\n",
       "      <td>5</td>\n",
       "      <td>3,4-Dihydroxybenzaldehyde|DL-Liquiritigenin|2-...</td>\n",
       "    </tr>\n",
       "  </tbody>\n",
       "</table>\n",
       "</div>"
      ],
      "text/plain": [
       "   id                                               chem\n",
       "0   1  Ethyl Lactate|3,4-Dihydroxybenzaldehyde|DL-Liq...\n",
       "1   2  AC1LDI49|56424-87-4|3,4-Dihydroxybenzaldehyde|...\n",
       "2   3  3-Methyl-1-butanol|Thymol|2-Nonanone|Pyrrolidi...\n",
       "3   4  AC1LDI49|56424-87-4|2-Hexenyl propanoate|3,4-D...\n",
       "4   5  3,4-Dihydroxybenzaldehyde|DL-Liquiritigenin|2-..."
      ]
     },
     "execution_count": 10,
     "metadata": {},
     "output_type": "execute_result"
    }
   ],
   "source": [
    "flavonoid.head()"
   ]
  },
  {
   "cell_type": "code",
   "execution_count": 11,
   "metadata": {},
   "outputs": [],
   "source": [
    "allChem=[]\n",
    "for ele in flavonoid.chem:\n",
    "    allChem.extend(ele.split(\"|\"))"
   ]
  },
  {
   "cell_type": "code",
   "execution_count": 12,
   "metadata": {},
   "outputs": [],
   "source": [
    "allChem=list(set(allChem))"
   ]
  },
  {
   "cell_type": "code",
   "execution_count": 13,
   "metadata": {},
   "outputs": [
    {
     "name": "stdout",
     "output_type": "stream",
     "text": [
      "['Acetylpyrazine', 'Isopropyl Hexanoate', 'theobromine', '4-Hexen-3-One', 'Methyl 2-methoxybenzoate']\n",
      "1405\n"
     ]
    }
   ],
   "source": [
    "print(allChem[:5])\n",
    "print(len(allChem))"
   ]
  },
  {
   "cell_type": "code",
   "execution_count": 16,
   "metadata": {},
   "outputs": [
    {
     "data": {
      "text/html": [
       "<div>\n",
       "<style scoped>\n",
       "    .dataframe tbody tr th:only-of-type {\n",
       "        vertical-align: middle;\n",
       "    }\n",
       "\n",
       "    .dataframe tbody tr th {\n",
       "        vertical-align: top;\n",
       "    }\n",
       "\n",
       "    .dataframe thead th {\n",
       "        text-align: right;\n",
       "    }\n",
       "</style>\n",
       "<table border=\"1\" class=\"dataframe\">\n",
       "  <thead>\n",
       "    <tr style=\"text-align: right;\">\n",
       "      <th></th>\n",
       "      <th>id</th>\n",
       "      <th>flavanoids</th>\n",
       "    </tr>\n",
       "  </thead>\n",
       "  <tbody>\n",
       "    <tr>\n",
       "      <th>0</th>\n",
       "      <td>1</td>\n",
       "      <td>Ethyl Lactate|3,4-Dihydroxybenzaldehyde|DL-Liq...</td>\n",
       "    </tr>\n",
       "    <tr>\n",
       "      <th>1</th>\n",
       "      <td>2</td>\n",
       "      <td>AC1LDI49|56424-87-4|3,4-Dihydroxybenzaldehyde|...</td>\n",
       "    </tr>\n",
       "    <tr>\n",
       "      <th>2</th>\n",
       "      <td>3</td>\n",
       "      <td>3-Methyl-1-butanol|Thymol|2-Nonanone|Pyrrolidi...</td>\n",
       "    </tr>\n",
       "    <tr>\n",
       "      <th>3</th>\n",
       "      <td>4</td>\n",
       "      <td>AC1LDI49|56424-87-4|2-Hexenyl propanoate|3,4-D...</td>\n",
       "    </tr>\n",
       "    <tr>\n",
       "      <th>4</th>\n",
       "      <td>5</td>\n",
       "      <td>3,4-Dihydroxybenzaldehyde|DL-Liquiritigenin|2-...</td>\n",
       "    </tr>\n",
       "  </tbody>\n",
       "</table>\n",
       "</div>"
      ],
      "text/plain": [
       "   id                                         flavanoids\n",
       "0   1  Ethyl Lactate|3,4-Dihydroxybenzaldehyde|DL-Liq...\n",
       "1   2  AC1LDI49|56424-87-4|3,4-Dihydroxybenzaldehyde|...\n",
       "2   3  3-Methyl-1-butanol|Thymol|2-Nonanone|Pyrrolidi...\n",
       "3   4  AC1LDI49|56424-87-4|2-Hexenyl propanoate|3,4-D...\n",
       "4   5  3,4-Dihydroxybenzaldehyde|DL-Liquiritigenin|2-..."
      ]
     },
     "execution_count": 16,
     "metadata": {},
     "output_type": "execute_result"
    }
   ],
   "source": [
    "rawData=pd.read_csv(\"../dataset/Utilities/newDatabase.csv\",names=[\"id\",\"flavanoids\"])\n",
    "rawData.head()"
   ]
  },
  {
   "cell_type": "code",
   "execution_count": 22,
   "metadata": {
    "scrolled": true
   },
   "outputs": [
    {
     "name": "stdout",
     "output_type": "stream",
     "text": [
      "('1', ['Ethyl Lactate', '3,4-Dihydroxybenzaldehyde', 'DL-Liquiritigenin', '2-Acetylpyrrole', 'benzaldehyde', 'Ethyl Vinyl Ketone', '5-Hydroxymethylfurfural', '2,3,5-Trimethylpyrazine', 'Octan-2-ol', '2-Butanone', 'coumarin', 'indole', 'CHEBI:49249', 'Isobutyl isothiocyanate', '2-Isobutyl-3-Methoxypyrazine', 'Allyl methyl sulfide', 'Humulene', 'AC1L9CNW', 'Vitamin U', 'Alpha-Terpinyl Acetate', 'S-Propyl thioacetate', 'Terpinen-4-ol', 'Isobornyl acetate', 'Phlorizin', 'Methyl tetradecanoate', '(Z)-Hex-3-en-1-ol', '.alpha.-Calacorene', 'Tetrasulfide, dimethyl', 'M-Cymene', '(-)-Epicatechin gallate', 'Methyleugenol', '2-Nonanol', 'cinnamaldehyde', '2-Hexanone', 'Valencene', '2-Methylbutyraldehyde', '3,5-Diethyl-1,2,4-trithiolane', 'Isobutyl Acetate', 'Coumestrol', 'Ocimene', 'farnesol', 'Citral', '2-isopropyl-6-methoxypyrazine', 'hydrogen cyanide', 'Ethyl Propyl Disulfide', 'Methyl propyl disulfide', '2-Mercapto-2-Methyl-1-Pentanol', 'Hexanal', 'Damascenone', '2,3-butanedione', '1,3-Dithiane', '3,4-Dimethylphenol', 'Heptanal', 'Propyl sulfide', 'trans,trans-2,4-Nonadienal', 'trans-2-Nonenal', 'Ethyl Acetate', 'gamma-Caprolactone', 'D-Lactic acid', 'Tetradecanoic acid', '3-Octanone', 'Isobutyl Formate', 'hydrogen sulfide', 'Isovaleric Acid', 'cis-Jasmone', 'D-mannitol', '156420-69-8', 'Cianidanol', 'Methyl Benzoate', 'Eucalyptol', 'Pentanal', 'Propenyl propyl disulfide', 'Methyl Stearate', 'Allyl Mercaptan', 'Curcumenol', 'Linalool', 'alpha-Cadinene', 'Menthone', 'palmitic acid', 'Diallyl trisulfide', 'Pyridine', '1-Dodecanol', 'Ethyl Benzoate', 'Hexyl acetate', 'Nerolidyl acetate', 'indole-3-acetic acid', '2-Acetyl-2-thiazoline', '2,6-Dimethylpyrazine', '3-Methylcyclopentane-1,2-dione', 'Nonanal', 'Tributyrin', 'Pyruvic acid', 'Terpinolene', 'UNII-M41Y60O5BZ', '4-Methyl-5-Thiazoleethanol', 'Isoquercitrin', '2-Phenylethanol', 'Linalyl Acetate', 'Diisopropyl trisulfide', 'Gamma-Terpinene', 'Diallyl Disulfide', '3-Phenylpropanoic acid', 'Beta-Phellandrene', 'phloretin', 'Carvacrol', 'Curcumene', 'dimethyl sulfide', 'Ethyl Formate', '2,6-Dimethoxyphenol', 'carnosol', 'Disulfide, methyl 1-propenyl', '1-octanol', '2-Isopropyl-5-methylcyclohexanone', 'Beta-Caryophyllene', 'Neral', '1-Propanethiol', 'Phytol', '1-Octen-3-Ol', 'daidzein', 'Methyl octanoate', 'nan', 'cis-Isoeugenol', 'Alpha-Ionone', 'Dipropyl trisulfide', 'Daidzin', 'Beta-Pinene', 'Allyl Methyl Disulfide', 'Isopentyl formate', '2-Acetyl-5-Methylfuran', '2-Methyl-2-Pentenal', '(Z)-cinnamyl alcohol', '2-Heptanone', 'sulfur dioxide', 'Dipentene', 'Methyl Acetate', '2-Methyl-1-propanol', 'methanethiol', 'Sinapic Acid', 'Isoamyl Acetate', 'quercetin', 'L-Rhamnose', 'isopropanol', '2-Pentanol', '2-Methyl-1-Butanol', '3-Carene', '2-Isopropyl-3-Methoxypyrazine', 'Vanillic acid', 'Furfuryl acetate', '2,3-Pentanedione', '.alpha.-Cubebene', '2-Heptanol', '(-)-Zingiberene', 'butein', '24168-70-5', '2-Nonanone', 'calcium lactate', '3-Hexanone', '(-)-gamma-cadinene', 'hydrogen peroxide', '(5xi,7xi,10xi)-eudesma-4(14),11-diene', 'S-allyl-L-cysteine', 'Methyl propyl trisulfide', 'gamma-Decalactone', '(-)-Epigallocatechin', 'gamma-Butyrolactone', 'methyl (9E,12Z)-octadeca-9,12-dienoate', '4-Methyl-5-Vinylthiazole', '3-methylthiopropanol', '2-(4-Hydroxyphenyl)ethanol', 'Tangeretin', 'gamma-Nonanolactone', 'Cyclopentanone', 'Carvone', '(Z)-Ethyl cinnamate', 'methyl salicylate', '6-Methyl-5-Hepten-2-One', 'Tiglic aldehyde', '2,3-Dimethylbenzofuran', 'D-Isoleucine Methyl Ester Hydrochloride', 'D-Camphor', 'betaine', 'P-Cymene', '4-Methyl-2-pentanone', '(+)-alpha-Terpineol', '2-Methyltetrahydrofuran-3-One', '3-Pentanone', 'Cinnamic Acid', '4-isopropylbenzaldehyde', 'Styrene', 'phenol', '2-Ethyl-4-hydroxy-5-methyl-3(2H)-furanone', 'Methyl jasmonate', '(Z)-Hex-4-enal', 'resveratrol', '(+)-Camphene', 'Cubenol', '3-Ethyl-2,5-dimethylpyrazine', '1-Popc', 'acetic acid', '2-Phenylethyl formate', 'trans-Anethole', '2-Undecanol', 'succinic acid', 'alpha-Cadinol', 'Dl-Methionine', 'salicylic acid', 'Isobutyraldehyde', '3-Thujene', 'CID 644104', '1,3-Diphenyl-1-butanone', 'Gallocatechin', 'dibutyl phthalate', 'Geraniol', 'Acrolein', '5-Methylfurfural', 'D-Limonene', 'Isopentyl benzoate', 'Thiamine Hydrochloride', '2,5-Dimethylthiophene', '(+)-Neomenthol', 'l-.alpha.-Cadinol', '2-Methylbutyl Acetate', 'Isoborneol', '1-(4-Methylphenyl)ethanol', '3-Mercapto-2-methylpentanal', '3-Methyl-2-Cyclopenten-1-One', 'Benzyl Salicylate', '(+)-delta-Cadinene', 'Octanal', 'Acetal', '3-Methylbutanal', 'Ethyl Cinnamate', 'Beta-Ionone', 'Acetyleugenol', 'cis-Cinnamic acid', '3-Methyl-2-butenal', '3-Methoxybenzaldehyde', 'octanoic acid', 'benzyl isothiocyanate', 'Ethyl Octanoate', '2-Pentyl Acetate', '33368-82-0', 'Isopropyl Acetate', 'eugenol', 'guaiacol', '2-amino-3-(prop-2-en-1-ylsulfanyl)propanoic acid', 'UNII-H5E892YJGG', 'Phenylacetic Acid', '2-Pentanone', 'Undecanoic Acid', 'Pyrrolidine', 'Allyl propyl sulfide', 'benzoic acid', 'DL-Tartaric acid', 'Benzyl tiglate', 'Linamarin', '3,4-Dihydroxybenzoic Acid', '2-Methoxy-4-vinylphenol', '3242-08-8', 'Acetophenone', '4-Hexen-1-Ol', '2-Methylbenzaldehyde', 'Nerolidol', '2-Furylacetone', 'Farnesal', 'Butyl propyl disulfide', '2-Acetylthiazole', 'Maltol', 'naringenin', '1-Pyrroline', '2,5-Dimethylpyrazine', 'Alpha-Terpinene', 'Dimethyl disulfide', 'propionic acid', '.beta.-Bourbonene', 'trans-2-Hexen-1-Ol', 'Dipropyl disulfide', '2,6-Di-tert-butyl-4-methylphenol', 'NSC5112', '1-Methylnaphthalene', 'Hexanoic Acid', 'Alpha-Pinene', 'Phenethyl acetate', '2-Methylpyrazine', 'Aromadendrene', '6753-98-6', '(E)-gamma-Bisabolene', 'Ethyl Levulinate', 'trans-3-Hexen-1-ol', 'Borneol', 'Beta-Selinene', '1-Nonanol', 'Beta-Elemene', 'Taxifolin', 'Myrcene', '1-Hexanol', 'Caryophyllene', 'Juniper camphor', 'Allyldimethylsilane', '4-Vinylphenol', 'Octan-2-one', '1-Phenylethyl acetate', 'Furfuryl Alcohol', 'Ethyl caproate', 'lauric acid', 'kaempferol', 'Camphene', '4-Hexen-3-One', 'Thymol', 'Isoeugenol', 'isoliquiritigenin', '2,3,5,6-Tetramethylpyrazine', 'Allyl Alcohol', '3-Hexanol', 'ethanol', 'alpha-Muurolene', '227456-27-1', '2-Methylpentanal', 'caftaric acid', '3-Methyl-2-Butanol', '(-)-Epicatechin', 'Allyl Isothiocyanate', 'Thymol methyl ether', 'cis-3-Hexenal', 'acetone', '(-)-Limonene', '3-Methyl-2-Buten-1-Ol', 'Beta-Terpineol', 'p-coumaric acid', 'Clove Oil', '4-hydroxybenzaldehyde', 'S-Methyl thioacetate', 'alpha-TERPINEOL', 'D-Fenchone', 'Estragole', '3-Heptanone', '7-methyl-4-methylidene-1-propan-2-yl-2,3,4a,5,6,8a-hexahydro-1H-naphthalene', '2-Furaldehyde', 'gingerol', 'Dl-Phenylalanine', 'Methyl propenyl ketone', '(-)-Epigallocatechin gallate', 'Acetovanillone', '(E)-Hept-2-enal', 'apigenin', 'vanillin', '3-Methyl-2-Cyclohexen-1-One', 'Diallyl Sulfide', 'Dimethyl trisulfide', 'Alpha-Phellandrene', 'luteolin', '1-propanol', 'phenylacetaldehyde', '(+)-alpha-phellandrene', 'Propyl butyrate', 'Benzyl Acetate', '3-Methyl-1-butanol', '1-Phenylethanol', 'Benzyl Benzoate', 'Isobutyl butyrate', '2-Acetylpyridine', '4-isopropylbenzyl alcohol', 'Isorhamnetin', '1-Penten-3-Ol', '2-Pentylfuran', 'L-histidine', 'Propyl acetate', 'Chavicol', 'AC1NST8Q', 'Syringaldehyde', 'Nonanoic Acid', '2-Undecanone', 'nicotine', '.beta.-Sesquiphellandrene', 'Sabinene hydrate', 'Methyl Palmitate', 'Neryl propionate', 'cinnamyl alcohol', 'Piperitol', 'cis-3-Hexenyl acetate', 'Geranyl Acetate', 'Allyl Propyl Disulfide', '(+)-gamma-cadinene', 'naphthalene', '2-Methylbutanoic acid', 'benzyl alcohol', 'alpha-Maltose', 'alpha-L-Sorbopyranose', 'Ethyl Butyrate', 'Heptanoic Acid', 'thiamine', 'Allyl Methyl Trisulfide', '2-Tridecanone', 'L-phenylalanine', 'Propionaldehyde', '3-(Methylthio)propionaldehyde', 'Caryophyllene oxide', 'Diallyl tetrasulfide', 'dimethyl sulfoxide', 'Propyl Benzoate'])\n"
     ]
    }
   ],
   "source": [
    "flavanoidDB={}\n",
    "for i in range(rawData.shape[0]):\n",
    "    flavanoidDB[str(rawData.id[i])]=rawData.flavanoids[i].split(\"|\")\n",
    "print(list(flavanoidDB.items())[0])"
   ]
  },
  {
   "cell_type": "code",
   "execution_count": 24,
   "metadata": {},
   "outputs": [
    {
     "name": "stdout",
     "output_type": "stream",
     "text": [
      "#unique chemical compound=1405\n"
     ]
    }
   ],
   "source": [
    "print(\"#unique chemical compound={}\".format(len(allChem)))"
   ]
  },
  {
   "cell_type": "code",
   "execution_count": 25,
   "metadata": {},
   "outputs": [
    {
     "data": {
      "text/html": [
       "<div>\n",
       "<style scoped>\n",
       "    .dataframe tbody tr th:only-of-type {\n",
       "        vertical-align: middle;\n",
       "    }\n",
       "\n",
       "    .dataframe tbody tr th {\n",
       "        vertical-align: top;\n",
       "    }\n",
       "\n",
       "    .dataframe thead th {\n",
       "        text-align: right;\n",
       "    }\n",
       "</style>\n",
       "<table border=\"1\" class=\"dataframe\">\n",
       "  <thead>\n",
       "    <tr style=\"text-align: right;\">\n",
       "      <th></th>\n",
       "      <th>Unnamed: 0</th>\n",
       "      <th>user_id</th>\n",
       "      <th>food_id</th>\n",
       "      <th>rating</th>\n",
       "      <th>userReviews</th>\n",
       "      <th>foodReviews</th>\n",
       "    </tr>\n",
       "  </thead>\n",
       "  <tbody>\n",
       "    <tr>\n",
       "      <th>0</th>\n",
       "      <td>0</td>\n",
       "      <td>9974</td>\n",
       "      <td>998</td>\n",
       "      <td>5</td>\n",
       "      <td>['delicious', 'and', 'easy', 'to', 'make']</td>\n",
       "      <td>['delicious', 'and', 'easy', 'to', 'make']</td>\n",
       "    </tr>\n",
       "    <tr>\n",
       "      <th>1</th>\n",
       "      <td>1</td>\n",
       "      <td>10340</td>\n",
       "      <td>998</td>\n",
       "      <td>5</td>\n",
       "      <td>['feeling', 'healthy', 'great', 'replication',...</td>\n",
       "      <td>['delicious', 'and', 'easy', 'to', 'make']</td>\n",
       "    </tr>\n",
       "    <tr>\n",
       "      <th>2</th>\n",
       "      <td>2</td>\n",
       "      <td>12047</td>\n",
       "      <td>998</td>\n",
       "      <td>5</td>\n",
       "      <td>['yum', 'will', 'make', 'again']</td>\n",
       "      <td>['delicious', 'and', 'easy', 'to', 'make']</td>\n",
       "    </tr>\n",
       "    <tr>\n",
       "      <th>3</th>\n",
       "      <td>3</td>\n",
       "      <td>13451</td>\n",
       "      <td>998</td>\n",
       "      <td>5</td>\n",
       "      <td>['turned', 'out', 'great', 'i', 'added', 'pean...</td>\n",
       "      <td>['delicious', 'and', 'easy', 'to', 'make']</td>\n",
       "    </tr>\n",
       "    <tr>\n",
       "      <th>4</th>\n",
       "      <td>8</td>\n",
       "      <td>18226</td>\n",
       "      <td>998</td>\n",
       "      <td>5</td>\n",
       "      <td>['fantastic', 'tasting', 'completely', 'simple...</td>\n",
       "      <td>['delicious', 'and', 'easy', 'to', 'make']</td>\n",
       "    </tr>\n",
       "  </tbody>\n",
       "</table>\n",
       "</div>"
      ],
      "text/plain": [
       "   Unnamed: 0  user_id food_id  rating  \\\n",
       "0           0     9974     998       5   \n",
       "1           1    10340     998       5   \n",
       "2           2    12047     998       5   \n",
       "3           3    13451     998       5   \n",
       "4           8    18226     998       5   \n",
       "\n",
       "                                         userReviews  \\\n",
       "0         ['delicious', 'and', 'easy', 'to', 'make']   \n",
       "1  ['feeling', 'healthy', 'great', 'replication',...   \n",
       "2                   ['yum', 'will', 'make', 'again']   \n",
       "3  ['turned', 'out', 'great', 'i', 'added', 'pean...   \n",
       "4  ['fantastic', 'tasting', 'completely', 'simple...   \n",
       "\n",
       "                                  foodReviews  \n",
       "0  ['delicious', 'and', 'easy', 'to', 'make']  \n",
       "1  ['delicious', 'and', 'easy', 'to', 'make']  \n",
       "2  ['delicious', 'and', 'easy', 'to', 'make']  \n",
       "3  ['delicious', 'and', 'easy', 'to', 'make']  \n",
       "4  ['delicious', 'and', 'easy', 'to', 'make']  "
      ]
     },
     "execution_count": 25,
     "metadata": {},
     "output_type": "execute_result"
    }
   ],
   "source": [
    "rawData=pd.read_csv(\"../dataset/Utilities/unembedded_grouped_cleaned_data.csv\")\n",
    "rawData.head()"
   ]
  },
  {
   "cell_type": "code",
   "execution_count": 27,
   "metadata": {},
   "outputs": [],
   "source": [
    "for ele in flavanoidDB.keys():\n",
    "    rawData.loc[rawData[\"food_id\"]==ele,\"foodReviews\"]=str(flavanoidDB[ele])"
   ]
  },
  {
   "cell_type": "code",
   "execution_count": 42,
   "metadata": {},
   "outputs": [],
   "source": [
    "from sklearn.feature_extraction.text import TfidfVectorizer\n",
    "\n",
    "def dummy_fun(doc):\n",
    "    return doc\n",
    "\n",
    "tfidf = TfidfVectorizer(\n",
    "    analyzer='word',\n",
    "    tokenizer=dummy_fun,\n",
    "    preprocessor=dummy_fun,\n",
    "    token_pattern=None) \n",
    "\n",
    "tfidf.fit([eval(ele) for ele in rawData[\"foodReviews\"]])\n",
    "tfidf_matrix=tfidf.transform([eval(ele) for ele in rawData[\"foodReviews\"]]).toarray()"
   ]
  },
  {
   "cell_type": "code",
   "execution_count": 43,
   "metadata": {},
   "outputs": [
    {
     "name": "stdout",
     "output_type": "stream",
     "text": [
      "(58283, 1410)\n"
     ]
    }
   ],
   "source": [
    "print(tfidf_matrix.shape)"
   ]
  },
  {
   "cell_type": "code",
   "execution_count": 44,
   "metadata": {},
   "outputs": [
    {
     "data": {
      "text/html": [
       "<div>\n",
       "<style scoped>\n",
       "    .dataframe tbody tr th:only-of-type {\n",
       "        vertical-align: middle;\n",
       "    }\n",
       "\n",
       "    .dataframe tbody tr th {\n",
       "        vertical-align: top;\n",
       "    }\n",
       "\n",
       "    .dataframe thead th {\n",
       "        text-align: right;\n",
       "    }\n",
       "</style>\n",
       "<table border=\"1\" class=\"dataframe\">\n",
       "  <thead>\n",
       "    <tr style=\"text-align: right;\">\n",
       "      <th></th>\n",
       "      <th>(+)-Camphene</th>\n",
       "      <th>(+)-Dihydrocarveol</th>\n",
       "      <th>(+)-Isomenthone</th>\n",
       "      <th>(+)-Linalool</th>\n",
       "      <th>(+)-Neomenthol</th>\n",
       "      <th>(+)-Pulegone</th>\n",
       "      <th>(+)-alpha-Terpineol</th>\n",
       "      <th>(+)-alpha-phellandrene</th>\n",
       "      <th>(+)-delta-Cadinene</th>\n",
       "      <th>(+)-gamma-cadinene</th>\n",
       "      <th>...</th>\n",
       "      <th>trans-Aconitic acid</th>\n",
       "      <th>trans-Anethole</th>\n",
       "      <th>tridec-2-enal</th>\n",
       "      <th>trimethylamine</th>\n",
       "      <th>twice</th>\n",
       "      <th>tyramine</th>\n",
       "      <th>vanillin</th>\n",
       "      <th>very</th>\n",
       "      <th>was</th>\n",
       "      <th>🤤🤤🤤</th>\n",
       "    </tr>\n",
       "  </thead>\n",
       "  <tbody>\n",
       "    <tr>\n",
       "      <th>0</th>\n",
       "      <td>0.0</td>\n",
       "      <td>0.0</td>\n",
       "      <td>0.0</td>\n",
       "      <td>0.0</td>\n",
       "      <td>0.043193</td>\n",
       "      <td>0.0</td>\n",
       "      <td>0.0</td>\n",
       "      <td>0.0</td>\n",
       "      <td>0.043193</td>\n",
       "      <td>0.0</td>\n",
       "      <td>...</td>\n",
       "      <td>0.0</td>\n",
       "      <td>0.0</td>\n",
       "      <td>0.0</td>\n",
       "      <td>0.0</td>\n",
       "      <td>0.0</td>\n",
       "      <td>0.0</td>\n",
       "      <td>0.042383</td>\n",
       "      <td>0.0</td>\n",
       "      <td>0.0</td>\n",
       "      <td>0.0</td>\n",
       "    </tr>\n",
       "    <tr>\n",
       "      <th>1</th>\n",
       "      <td>0.0</td>\n",
       "      <td>0.0</td>\n",
       "      <td>0.0</td>\n",
       "      <td>0.0</td>\n",
       "      <td>0.043193</td>\n",
       "      <td>0.0</td>\n",
       "      <td>0.0</td>\n",
       "      <td>0.0</td>\n",
       "      <td>0.043193</td>\n",
       "      <td>0.0</td>\n",
       "      <td>...</td>\n",
       "      <td>0.0</td>\n",
       "      <td>0.0</td>\n",
       "      <td>0.0</td>\n",
       "      <td>0.0</td>\n",
       "      <td>0.0</td>\n",
       "      <td>0.0</td>\n",
       "      <td>0.042383</td>\n",
       "      <td>0.0</td>\n",
       "      <td>0.0</td>\n",
       "      <td>0.0</td>\n",
       "    </tr>\n",
       "    <tr>\n",
       "      <th>2</th>\n",
       "      <td>0.0</td>\n",
       "      <td>0.0</td>\n",
       "      <td>0.0</td>\n",
       "      <td>0.0</td>\n",
       "      <td>0.043193</td>\n",
       "      <td>0.0</td>\n",
       "      <td>0.0</td>\n",
       "      <td>0.0</td>\n",
       "      <td>0.043193</td>\n",
       "      <td>0.0</td>\n",
       "      <td>...</td>\n",
       "      <td>0.0</td>\n",
       "      <td>0.0</td>\n",
       "      <td>0.0</td>\n",
       "      <td>0.0</td>\n",
       "      <td>0.0</td>\n",
       "      <td>0.0</td>\n",
       "      <td>0.042383</td>\n",
       "      <td>0.0</td>\n",
       "      <td>0.0</td>\n",
       "      <td>0.0</td>\n",
       "    </tr>\n",
       "    <tr>\n",
       "      <th>3</th>\n",
       "      <td>0.0</td>\n",
       "      <td>0.0</td>\n",
       "      <td>0.0</td>\n",
       "      <td>0.0</td>\n",
       "      <td>0.043193</td>\n",
       "      <td>0.0</td>\n",
       "      <td>0.0</td>\n",
       "      <td>0.0</td>\n",
       "      <td>0.043193</td>\n",
       "      <td>0.0</td>\n",
       "      <td>...</td>\n",
       "      <td>0.0</td>\n",
       "      <td>0.0</td>\n",
       "      <td>0.0</td>\n",
       "      <td>0.0</td>\n",
       "      <td>0.0</td>\n",
       "      <td>0.0</td>\n",
       "      <td>0.042383</td>\n",
       "      <td>0.0</td>\n",
       "      <td>0.0</td>\n",
       "      <td>0.0</td>\n",
       "    </tr>\n",
       "    <tr>\n",
       "      <th>4</th>\n",
       "      <td>0.0</td>\n",
       "      <td>0.0</td>\n",
       "      <td>0.0</td>\n",
       "      <td>0.0</td>\n",
       "      <td>0.043193</td>\n",
       "      <td>0.0</td>\n",
       "      <td>0.0</td>\n",
       "      <td>0.0</td>\n",
       "      <td>0.043193</td>\n",
       "      <td>0.0</td>\n",
       "      <td>...</td>\n",
       "      <td>0.0</td>\n",
       "      <td>0.0</td>\n",
       "      <td>0.0</td>\n",
       "      <td>0.0</td>\n",
       "      <td>0.0</td>\n",
       "      <td>0.0</td>\n",
       "      <td>0.042383</td>\n",
       "      <td>0.0</td>\n",
       "      <td>0.0</td>\n",
       "      <td>0.0</td>\n",
       "    </tr>\n",
       "  </tbody>\n",
       "</table>\n",
       "<p>5 rows × 1410 columns</p>\n",
       "</div>"
      ],
      "text/plain": [
       "   (+)-Camphene  (+)-Dihydrocarveol  (+)-Isomenthone  (+)-Linalool  \\\n",
       "0           0.0                 0.0              0.0           0.0   \n",
       "1           0.0                 0.0              0.0           0.0   \n",
       "2           0.0                 0.0              0.0           0.0   \n",
       "3           0.0                 0.0              0.0           0.0   \n",
       "4           0.0                 0.0              0.0           0.0   \n",
       "\n",
       "   (+)-Neomenthol  (+)-Pulegone  (+)-alpha-Terpineol  (+)-alpha-phellandrene  \\\n",
       "0        0.043193           0.0                  0.0                     0.0   \n",
       "1        0.043193           0.0                  0.0                     0.0   \n",
       "2        0.043193           0.0                  0.0                     0.0   \n",
       "3        0.043193           0.0                  0.0                     0.0   \n",
       "4        0.043193           0.0                  0.0                     0.0   \n",
       "\n",
       "   (+)-delta-Cadinene  (+)-gamma-cadinene  ...  trans-Aconitic acid  \\\n",
       "0            0.043193                 0.0  ...                  0.0   \n",
       "1            0.043193                 0.0  ...                  0.0   \n",
       "2            0.043193                 0.0  ...                  0.0   \n",
       "3            0.043193                 0.0  ...                  0.0   \n",
       "4            0.043193                 0.0  ...                  0.0   \n",
       "\n",
       "   trans-Anethole  tridec-2-enal  trimethylamine  twice  tyramine  vanillin  \\\n",
       "0             0.0            0.0             0.0    0.0       0.0  0.042383   \n",
       "1             0.0            0.0             0.0    0.0       0.0  0.042383   \n",
       "2             0.0            0.0             0.0    0.0       0.0  0.042383   \n",
       "3             0.0            0.0             0.0    0.0       0.0  0.042383   \n",
       "4             0.0            0.0             0.0    0.0       0.0  0.042383   \n",
       "\n",
       "   very  was  🤤🤤🤤  \n",
       "0   0.0  0.0  0.0  \n",
       "1   0.0  0.0  0.0  \n",
       "2   0.0  0.0  0.0  \n",
       "3   0.0  0.0  0.0  \n",
       "4   0.0  0.0  0.0  \n",
       "\n",
       "[5 rows x 1410 columns]"
      ]
     },
     "execution_count": 44,
     "metadata": {},
     "output_type": "execute_result"
    }
   ],
   "source": [
    "df1 = pd.DataFrame(tfidf_matrix, columns=tfidf.get_feature_names())\n",
    "df1.head()"
   ]
  },
  {
   "cell_type": "code",
   "execution_count": 48,
   "metadata": {},
   "outputs": [
    {
     "data": {
      "text/plain": [
       "(+)-Camphene          0.000726\n",
       "(+)-Dihydrocarveol    0.000003\n",
       "(+)-Isomenthone       0.000008\n",
       "(+)-Linalool          0.000742\n",
       "(+)-Neomenthol        0.000108\n",
       "                        ...   \n",
       "tyramine              0.000321\n",
       "vanillin              0.000098\n",
       "very                  0.000011\n",
       "was                   0.000011\n",
       "🤤🤤🤤                   0.001595\n",
       "Length: 1410, dtype: float64"
      ]
     },
     "execution_count": 48,
     "metadata": {},
     "output_type": "execute_result"
    }
   ],
   "source": [
    "df1.var()"
   ]
  },
  {
   "cell_type": "code",
   "execution_count": null,
   "metadata": {},
   "outputs": [],
   "source": []
  }
 ],
 "metadata": {
  "kernelspec": {
   "display_name": "Python [conda env:fyp] *",
   "language": "python",
   "name": "conda-env-fyp-py"
  },
  "language_info": {
   "codemirror_mode": {
    "name": "ipython",
    "version": 3
   },
   "file_extension": ".py",
   "mimetype": "text/x-python",
   "name": "python",
   "nbconvert_exporter": "python",
   "pygments_lexer": "ipython3",
   "version": "3.6.9"
  }
 },
 "nbformat": 4,
 "nbformat_minor": 4
}
