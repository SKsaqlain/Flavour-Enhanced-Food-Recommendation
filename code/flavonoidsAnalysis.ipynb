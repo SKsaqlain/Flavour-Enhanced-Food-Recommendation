{
 "cells": [
  {
   "cell_type": "code",
   "execution_count": 3,
   "metadata": {},
   "outputs": [],
   "source": [
    "import os\n",
    "import numpy as np\n",
    "import matplotlib.pyplot as plt\n",
    "import pandas as  pd"
   ]
  },
  {
   "cell_type": "code",
   "execution_count": 5,
   "metadata": {},
   "outputs": [
    {
     "data": {
      "text/plain": [
       "['database.csv',\n",
       " 'food-User-Review-Rating.csv',\n",
       " 'id_name_mapping.csv',\n",
       " 'ingredients.json',\n",
       " 'ingToChemMap.csv',\n",
       " 'newDatabase.csv',\n",
       " 'newReview.csv',\n",
       " 'review.csv',\n",
       " 'reviewWithRating.csv',\n",
       " 'sample',\n",
       " 'twitterReviews',\n",
       " 'userToIdMap.csv',\n",
       " 'Utilities',\n",
       " 'yummlyReviews',\n",
       " 'yummlyUserReview.csv']"
      ]
     },
     "execution_count": 5,
     "metadata": {},
     "output_type": "execute_result"
    }
   ],
   "source": [
    "os.listdir(\"../dataset\")"
   ]
  },
  {
   "cell_type": "code",
   "execution_count": 20,
   "metadata": {},
   "outputs": [],
   "source": [
    "foodDb=pd.read_csv(\"../dataset/database.csv\",names=[\"id\",\"ing\"])"
   ]
  },
  {
   "cell_type": "code",
   "execution_count": 21,
   "metadata": {},
   "outputs": [],
   "source": [
    "allIng=[ele.split(\"|\")[0] for ele in foodDb.ing]"
   ]
  },
  {
   "cell_type": "code",
   "execution_count": 22,
   "metadata": {},
   "outputs": [],
   "source": [
    "allIng=list(set(allIng))"
   ]
  },
  {
   "cell_type": "code",
   "execution_count": 24,
   "metadata": {},
   "outputs": [
    {
     "name": "stdout",
     "output_type": "stream",
     "text": [
      "['barbeque', 'bacon', 'blue cheese', 'chicken', 'dal', 'fish', 'chaat', 'bay leaf', 'chapati', 'bamboo']\n",
      "total number of dishes  98\n"
     ]
    }
   ],
   "source": [
    "print(allIng[:10])\n",
    "print(\"total number of dishes \",len(allIng))"
   ]
  },
  {
   "cell_type": "code",
   "execution_count": 25,
   "metadata": {},
   "outputs": [
    {
     "data": {
      "text/plain": [
       "['food-User-Review-Rating.csv',\n",
       " 'id_name_mapping.csv',\n",
       " 'newDatabase.csv',\n",
       " 'newReview.csv',\n",
       " 'tastes.csv',\n",
       " 'tfidf_final_scores.pickle']"
      ]
     },
     "execution_count": 25,
     "metadata": {},
     "output_type": "execute_result"
    }
   ],
   "source": [
    "os.listdir(\"../dataset/Utilities\")"
   ]
  },
  {
   "cell_type": "code",
   "execution_count": 28,
   "metadata": {},
   "outputs": [],
   "source": [
    "flavonoid=pd.read_csv(\"../dataset/Utilities/newDatabase.csv\",names=[\"id\",\"chem\"])"
   ]
  },
  {
   "cell_type": "code",
   "execution_count": 29,
   "metadata": {},
   "outputs": [
    {
     "data": {
      "text/html": [
       "<div>\n",
       "<style scoped>\n",
       "    .dataframe tbody tr th:only-of-type {\n",
       "        vertical-align: middle;\n",
       "    }\n",
       "\n",
       "    .dataframe tbody tr th {\n",
       "        vertical-align: top;\n",
       "    }\n",
       "\n",
       "    .dataframe thead th {\n",
       "        text-align: right;\n",
       "    }\n",
       "</style>\n",
       "<table border=\"1\" class=\"dataframe\">\n",
       "  <thead>\n",
       "    <tr style=\"text-align: right;\">\n",
       "      <th></th>\n",
       "      <th>id</th>\n",
       "      <th>chem</th>\n",
       "    </tr>\n",
       "  </thead>\n",
       "  <tbody>\n",
       "    <tr>\n",
       "      <th>0</th>\n",
       "      <td>1</td>\n",
       "      <td>Ethyl Lactate|3,4-Dihydroxybenzaldehyde|DL-Liq...</td>\n",
       "    </tr>\n",
       "    <tr>\n",
       "      <th>1</th>\n",
       "      <td>2</td>\n",
       "      <td>AC1LDI49|56424-87-4|3,4-Dihydroxybenzaldehyde|...</td>\n",
       "    </tr>\n",
       "    <tr>\n",
       "      <th>2</th>\n",
       "      <td>3</td>\n",
       "      <td>3-Methyl-1-butanol|Thymol|2-Nonanone|Pyrrolidi...</td>\n",
       "    </tr>\n",
       "    <tr>\n",
       "      <th>3</th>\n",
       "      <td>4</td>\n",
       "      <td>AC1LDI49|56424-87-4|2-Hexenyl propanoate|3,4-D...</td>\n",
       "    </tr>\n",
       "    <tr>\n",
       "      <th>4</th>\n",
       "      <td>5</td>\n",
       "      <td>3,4-Dihydroxybenzaldehyde|DL-Liquiritigenin|2-...</td>\n",
       "    </tr>\n",
       "  </tbody>\n",
       "</table>\n",
       "</div>"
      ],
      "text/plain": [
       "   id                                               chem\n",
       "0   1  Ethyl Lactate|3,4-Dihydroxybenzaldehyde|DL-Liq...\n",
       "1   2  AC1LDI49|56424-87-4|3,4-Dihydroxybenzaldehyde|...\n",
       "2   3  3-Methyl-1-butanol|Thymol|2-Nonanone|Pyrrolidi...\n",
       "3   4  AC1LDI49|56424-87-4|2-Hexenyl propanoate|3,4-D...\n",
       "4   5  3,4-Dihydroxybenzaldehyde|DL-Liquiritigenin|2-..."
      ]
     },
     "execution_count": 29,
     "metadata": {},
     "output_type": "execute_result"
    }
   ],
   "source": [
    "flavonoid.head()"
   ]
  },
  {
   "cell_type": "code",
   "execution_count": 35,
   "metadata": {},
   "outputs": [],
   "source": [
    "allChem=[]\n",
    "for ele in flavonoid.chem:\n",
    "    allChem.extend(ele.split(\"|\"))"
   ]
  },
  {
   "cell_type": "code",
   "execution_count": 36,
   "metadata": {},
   "outputs": [],
   "source": [
    "allChem=list(set(allChem))"
   ]
  },
  {
   "cell_type": "code",
   "execution_count": 37,
   "metadata": {},
   "outputs": [
    {
     "name": "stdout",
     "output_type": "stream",
     "text": [
      "['3,5,5-Trimethylhexan-1-ol', '3,6-Nonadien-1-ol', 'cis-limonene 1,2 oxide', '1-Octen-3-Ol', '2-Ethyl-5-Methylpyrazine']\n",
      "1405\n"
     ]
    }
   ],
   "source": [
    "print(allChem[:5])\n",
    "print(len(allChem))"
   ]
  },
  {
   "cell_type": "code",
   "execution_count": null,
   "metadata": {},
   "outputs": [],
   "source": []
  }
 ],
 "metadata": {
  "kernelspec": {
   "display_name": "Python [conda env:fyp] *",
   "language": "python",
   "name": "conda-env-fyp-py"
  },
  "language_info": {
   "codemirror_mode": {
    "name": "ipython",
    "version": 3
   },
   "file_extension": ".py",
   "mimetype": "text/x-python",
   "name": "python",
   "nbconvert_exporter": "python",
   "pygments_lexer": "ipython3",
   "version": "3.6.9"
  }
 },
 "nbformat": 4,
 "nbformat_minor": 4
}
