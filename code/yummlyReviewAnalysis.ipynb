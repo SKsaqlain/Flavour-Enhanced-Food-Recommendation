{
 "cells": [
  {
   "cell_type": "code",
   "execution_count": 1,
   "metadata": {},
   "outputs": [
    {
     "data": {
      "text/plain": [
       "['database.csv',\n",
       " 'food-User-Review-Rating.csv',\n",
       " 'id_name_mapping.csv',\n",
       " 'ingredients.json',\n",
       " 'ingToChemMap.csv',\n",
       " 'newDatabase.csv',\n",
       " 'newReview.csv',\n",
       " 'review.csv',\n",
       " 'reviewWithRating.csv',\n",
       " 'sample',\n",
       " 'twitterReviews',\n",
       " 'userToIdMap.csv',\n",
       " 'Utilities',\n",
       " 'yummlyReviews',\n",
       " 'yummlyUserReview.csv']"
      ]
     },
     "execution_count": 1,
     "metadata": {},
     "output_type": "execute_result"
    }
   ],
   "source": [
    "import os\n",
    "os.listdir(\"../dataset\")"
   ]
  },
  {
   "cell_type": "code",
   "execution_count": 2,
   "metadata": {},
   "outputs": [],
   "source": [
    "import pandas as pd\n",
    "import numpy as np\n",
    "import matplotlib.pyplot as plt"
   ]
  },
  {
   "cell_type": "code",
   "execution_count": 3,
   "metadata": {},
   "outputs": [
    {
     "data": {
      "text/html": [
       "<div>\n",
       "<style scoped>\n",
       "    .dataframe tbody tr th:only-of-type {\n",
       "        vertical-align: middle;\n",
       "    }\n",
       "\n",
       "    .dataframe tbody tr th {\n",
       "        vertical-align: top;\n",
       "    }\n",
       "\n",
       "    .dataframe thead th {\n",
       "        text-align: right;\n",
       "    }\n",
       "</style>\n",
       "<table border=\"1\" class=\"dataframe\">\n",
       "  <thead>\n",
       "    <tr style=\"text-align: right;\">\n",
       "      <th></th>\n",
       "      <th>Unnamed: 0</th>\n",
       "      <th>food_id</th>\n",
       "      <th>user_id</th>\n",
       "      <th>review</th>\n",
       "      <th>rating</th>\n",
       "    </tr>\n",
       "  </thead>\n",
       "  <tbody>\n",
       "    <tr>\n",
       "      <th>0</th>\n",
       "      <td>0</td>\n",
       "      <td>998</td>\n",
       "      <td>9974</td>\n",
       "      <td>Delicious and easy to make</td>\n",
       "      <td>5</td>\n",
       "    </tr>\n",
       "    <tr>\n",
       "      <th>1</th>\n",
       "      <td>1</td>\n",
       "      <td>998</td>\n",
       "      <td>10340</td>\n",
       "      <td>Feeling healthy! Great replication of what I u...</td>\n",
       "      <td>5</td>\n",
       "    </tr>\n",
       "    <tr>\n",
       "      <th>2</th>\n",
       "      <td>2</td>\n",
       "      <td>998</td>\n",
       "      <td>12047</td>\n",
       "      <td>Yum will make again.</td>\n",
       "      <td>5</td>\n",
       "    </tr>\n",
       "    <tr>\n",
       "      <th>3</th>\n",
       "      <td>3</td>\n",
       "      <td>998</td>\n",
       "      <td>13451</td>\n",
       "      <td>Turned out great! I added peanut butter which ...</td>\n",
       "      <td>5</td>\n",
       "    </tr>\n",
       "    <tr>\n",
       "      <th>4</th>\n",
       "      <td>4</td>\n",
       "      <td>998</td>\n",
       "      <td>9974</td>\n",
       "      <td>Delicious and easy to make</td>\n",
       "      <td>5</td>\n",
       "    </tr>\n",
       "  </tbody>\n",
       "</table>\n",
       "</div>"
      ],
      "text/plain": [
       "   Unnamed: 0 food_id  user_id  \\\n",
       "0           0     998     9974   \n",
       "1           1     998    10340   \n",
       "2           2     998    12047   \n",
       "3           3     998    13451   \n",
       "4           4     998     9974   \n",
       "\n",
       "                                              review  rating  \n",
       "0                         Delicious and easy to make       5  \n",
       "1  Feeling healthy! Great replication of what I u...       5  \n",
       "2                               Yum will make again.       5  \n",
       "3  Turned out great! I added peanut butter which ...       5  \n",
       "4                         Delicious and easy to make       5  "
      ]
     },
     "execution_count": 3,
     "metadata": {},
     "output_type": "execute_result"
    }
   ],
   "source": [
    "df=pd.read_csv(\"../dataset/food-User-Review-Rating.csv\")\n",
    "df.head()"
   ]
  },
  {
   "cell_type": "code",
   "execution_count": 20,
   "metadata": {},
   "outputs": [
    {
     "name": "stdout",
     "output_type": "stream",
     "text": [
      "Total number of reviews  106511\n",
      "Total number of users  21004\n",
      "Total number of users with just one review  3044 ->  0.028579207781355916 %\n",
      "Average rating  4.4501788547661745\n",
      "rating std 0.9045444675399783\n"
     ]
    }
   ],
   "source": [
    "users=df[\"user_id\"].to_list()\n",
    "nRev=len(df.rating)\n",
    "print(\"Total number of reviews \",nRev)\n",
    "uniUsr=list(set(users))\n",
    "print(\"Total number of users \",len(uniUsr))\n",
    "usrWith1Rev=sum(df[\"user_id\"].value_counts()==1)\n",
    "print(\"Total number of users with just one review \",usrWith1Rev,\"-> \",usrWith1Rev/nRev,\"%\")\n",
    "print(\"Average rating \",np.average(df[\"rating\"]))\n",
    "print(\"rating std\",np.std(df[\"rating\"]))"
   ]
  },
  {
   "cell_type": "code",
   "execution_count": 10,
   "metadata": {},
   "outputs": [
    {
     "data": {
      "text/html": [
       "<div>\n",
       "<style scoped>\n",
       "    .dataframe tbody tr th:only-of-type {\n",
       "        vertical-align: middle;\n",
       "    }\n",
       "\n",
       "    .dataframe tbody tr th {\n",
       "        vertical-align: top;\n",
       "    }\n",
       "\n",
       "    .dataframe thead th {\n",
       "        text-align: right;\n",
       "    }\n",
       "</style>\n",
       "<table border=\"1\" class=\"dataframe\">\n",
       "  <thead>\n",
       "    <tr style=\"text-align: right;\">\n",
       "      <th></th>\n",
       "      <th>1</th>\n",
       "      <th>bean|clove|curry|garlic|masala|onion|salad|salt|sugar|turmeric|vinegar</th>\n",
       "    </tr>\n",
       "  </thead>\n",
       "  <tbody>\n",
       "    <tr>\n",
       "      <th>0</th>\n",
       "      <td>2</td>\n",
       "      <td>beef|chili|chilli|clove|coriander|cumin|garlic...</td>\n",
       "    </tr>\n",
       "    <tr>\n",
       "      <th>1</th>\n",
       "      <td>3</td>\n",
       "      <td>flour|ghee|paratha|salt|sugar</td>\n",
       "    </tr>\n",
       "    <tr>\n",
       "      <th>2</th>\n",
       "      <td>4</td>\n",
       "      <td>chana|corn|cumin|ginger|mango|oil|onion|potato...</td>\n",
       "    </tr>\n",
       "    <tr>\n",
       "      <th>3</th>\n",
       "      <td>5</td>\n",
       "      <td>cucumber|juice|lemon|onion|salt|sugar|tomato</td>\n",
       "    </tr>\n",
       "    <tr>\n",
       "      <th>4</th>\n",
       "      <td>6</td>\n",
       "      <td>chicken|chili|clove|coriander|cumin|dal|desser...</td>\n",
       "    </tr>\n",
       "  </tbody>\n",
       "</table>\n",
       "</div>"
      ],
      "text/plain": [
       "   1 bean|clove|curry|garlic|masala|onion|salad|salt|sugar|turmeric|vinegar\n",
       "0  2  beef|chili|chilli|clove|coriander|cumin|garlic...                    \n",
       "1  3                      flour|ghee|paratha|salt|sugar                    \n",
       "2  4  chana|corn|cumin|ginger|mango|oil|onion|potato...                    \n",
       "3  5       cucumber|juice|lemon|onion|salt|sugar|tomato                    \n",
       "4  6  chicken|chili|clove|coriander|cumin|dal|desser...                    "
      ]
     },
     "execution_count": 10,
     "metadata": {},
     "output_type": "execute_result"
    }
   ],
   "source": [
    "foodIdMap=pd.read_csv(\"../dataset/id_name_mapping.csv\")\n",
    "ing=pd.read_csv(\"../dataset/database.csv\")\n",
    "ing.head()\n"
   ]
  },
  {
   "cell_type": "code",
   "execution_count": 27,
   "metadata": {},
   "outputs": [
    {
     "name": "stdout",
     "output_type": "stream",
     "text": [
      "   Unnamed: 0 food_id  user_id  \\\n",
      "0           0     998     9974   \n",
      "1           1     998    10340   \n",
      "2           2     998    12047   \n",
      "3           3     998    13451   \n",
      "4           4     998     9974   \n",
      "\n",
      "                                              review  rating  \n",
      "0                         Delicious and easy to make       5  \n",
      "1  Feeling healthy! Great replication of what I u...       5  \n",
      "2                               Yum will make again.       5  \n",
      "3  Turned out great! I added peanut butter which ...       5  \n",
      "4                         Delicious and easy to make       5  \n",
      "Index(['Unnamed: 0', 'food_id', 'user_id', 'review', 'rating'], dtype='object')\n"
     ]
    }
   ],
   "source": [
    "print(df.head())\n",
    "print(df.columns)\n",
    "df=df.drop(df.columns[0] ,axis=1)"
   ]
  },
  {
   "cell_type": "code",
   "execution_count": 29,
   "metadata": {},
   "outputs": [
    {
     "name": "stdout",
     "output_type": "stream",
     "text": [
      "  food_id  user_id                                             review  rating\n",
      "0     998     9974                         Delicious and easy to make       5\n",
      "1     998    10340  Feeling healthy! Great replication of what I u...       5\n",
      "2     998    12047                               Yum will make again.       5\n",
      "3     998    13451  Turned out great! I added peanut butter which ...       5\n",
      "4     998     9974                         Delicious and easy to make       5\n",
      "(106511, 4)\n"
     ]
    }
   ],
   "source": [
    "print(df.head())\n",
    "print(df.shape)"
   ]
  },
  {
   "cell_type": "code",
   "execution_count": 31,
   "metadata": {},
   "outputs": [
    {
     "name": "stdout",
     "output_type": "stream",
     "text": [
      "    food_id  user_id                                             review  \\\n",
      "44      257     6918  A nice twist on aloo gobi. Too much cayenne pe...   \n",
      "525     803    13510  really good recipe! we added some Italian herb...   \n",
      "652     761     4955  We really enjoyed this dish . Easy, but elegan...   \n",
      "653     761    12859  The crisp taste of asparagus with the sweet br...   \n",
      "654     761     9324               great the whole family loved it!!!!!   \n",
      "\n",
      "     rating  \n",
      "44        4  \n",
      "525       5  \n",
      "652       5  \n",
      "653       5  \n",
      "654       5  \n",
      "(11361, 4)\n"
     ]
    }
   ],
   "source": [
    "df.drop_duplicates(keep=False,inplace=True)\n",
    "print(df.head())\n",
    "print(df.shape)"
   ]
  },
  {
   "cell_type": "code",
   "execution_count": 32,
   "metadata": {},
   "outputs": [
    {
     "name": "stdout",
     "output_type": "stream",
     "text": [
      "7629\n"
     ]
    }
   ],
   "source": [
    "print(len(set(df[\"user_id\"])))"
   ]
  },
  {
   "cell_type": "code",
   "execution_count": 34,
   "metadata": {},
   "outputs": [
    {
     "name": "stdout",
     "output_type": "stream",
     "text": [
      "Total number of reviews  11361\n",
      "Total number of users  7629\n",
      "Total number of users with just one review  5770 ->  50.78778276560162 %\n",
      "Average rating  4.50444503124725\n",
      "rating std 0.8211203746421151\n"
     ]
    }
   ],
   "source": [
    "users=df[\"user_id\"].to_list()\n",
    "nRev=len(df.rating)\n",
    "print(\"Total number of reviews \",nRev)\n",
    "uniUsr=list(set(users))\n",
    "print(\"Total number of users \",len(uniUsr))\n",
    "usrWith1Rev=sum(df[\"user_id\"].value_counts()==1)\n",
    "print(\"Total number of users with just one review \",usrWith1Rev,\"-> \",usrWith1Rev/nRev*100,\"%\")\n",
    "print(\"Average rating \",np.average(df[\"rating\"]))\n",
    "print(\"rating std\",np.std(df[\"rating\"]))"
   ]
  },
  {
   "cell_type": "code",
   "execution_count": 35,
   "metadata": {},
   "outputs": [],
   "source": [
    "df2=pd.read_csv(\"../dataset/food-User-Review-Rating.csv\")\n",
    "users=df2[\"user_id\"].to_list()"
   ]
  },
  {
   "cell_type": "code",
   "execution_count": 37,
   "metadata": {},
   "outputs": [
    {
     "name": "stdout",
     "output_type": "stream",
     "text": [
      "106511\n"
     ]
    }
   ],
   "source": [
    "print(len(users))"
   ]
  },
  {
   "cell_type": "code",
   "execution_count": 38,
   "metadata": {},
   "outputs": [
    {
     "name": "stdout",
     "output_type": "stream",
     "text": [
      "21004\n"
     ]
    }
   ],
   "source": [
    "print(len(set(users)))"
   ]
  },
  {
   "cell_type": "code",
   "execution_count": 40,
   "metadata": {},
   "outputs": [],
   "source": [
    "uniUsr=list(set(users))\n",
    "uniUsr=[str(ele) for ele in uniUsr]\n",
    "with open(\"test.txt\",\"w\") as f:\n",
    "    f.write(\"\\n\".join(uniUsr))"
   ]
  },
  {
   "cell_type": "code",
   "execution_count": 41,
   "metadata": {},
   "outputs": [
    {
     "data": {
      "text/plain": [
       "['database.csv',\n",
       " 'food-User-Review-Rating.csv',\n",
       " 'id_name_mapping.csv',\n",
       " 'ingredients.json',\n",
       " 'ingToChemMap.csv',\n",
       " 'newDatabase.csv',\n",
       " 'newReview.csv',\n",
       " 'review.csv',\n",
       " 'reviewWithRating.csv',\n",
       " 'sample',\n",
       " 'twitterReviews',\n",
       " 'userToIdMap.csv',\n",
       " 'Utilities',\n",
       " 'yummlyReviews',\n",
       " 'yummlyUserReview.csv']"
      ]
     },
     "execution_count": 41,
     "metadata": {},
     "output_type": "execute_result"
    }
   ],
   "source": [
    "os.listdir(\"../dataset\")"
   ]
  },
  {
   "cell_type": "code",
   "execution_count": 45,
   "metadata": {},
   "outputs": [],
   "source": [
    "df3=pd.read_csv(\"../dataset/userToIdMap.csv\")\n",
    "df3.head()\n",
    "df3=df3.drop(df3.columns[0] ,axis=1)\n",
    "df3.drop_duplicates(keep=False,inplace=True)"
   ]
  },
  {
   "cell_type": "code",
   "execution_count": 46,
   "metadata": {},
   "outputs": [
    {
     "data": {
      "text/html": [
       "<div>\n",
       "<style scoped>\n",
       "    .dataframe tbody tr th:only-of-type {\n",
       "        vertical-align: middle;\n",
       "    }\n",
       "\n",
       "    .dataframe tbody tr th {\n",
       "        vertical-align: top;\n",
       "    }\n",
       "\n",
       "    .dataframe thead th {\n",
       "        text-align: right;\n",
       "    }\n",
       "</style>\n",
       "<table border=\"1\" class=\"dataframe\">\n",
       "  <thead>\n",
       "    <tr style=\"text-align: right;\">\n",
       "      <th></th>\n",
       "      <th>id</th>\n",
       "      <th>name</th>\n",
       "    </tr>\n",
       "  </thead>\n",
       "  <tbody>\n",
       "    <tr>\n",
       "      <th>0</th>\n",
       "      <td>1</td>\n",
       "      <td>!</td>\n",
       "    </tr>\n",
       "    <tr>\n",
       "      <th>1</th>\n",
       "      <td>2</td>\n",
       "      <td>#DinnersReady!!</td>\n",
       "    </tr>\n",
       "    <tr>\n",
       "      <th>2</th>\n",
       "      <td>3</td>\n",
       "      <td>'Deb A.</td>\n",
       "    </tr>\n",
       "    <tr>\n",
       "      <th>3</th>\n",
       "      <td>4</td>\n",
       "      <td>-</td>\n",
       "    </tr>\n",
       "    <tr>\n",
       "      <th>4</th>\n",
       "      <td>5</td>\n",
       "      <td>-Lonely</td>\n",
       "    </tr>\n",
       "  </tbody>\n",
       "</table>\n",
       "</div>"
      ],
      "text/plain": [
       "   id             name\n",
       "0   1                !\n",
       "1   2  #DinnersReady!!\n",
       "2   3          'Deb A.\n",
       "3   4                -\n",
       "4   5          -Lonely"
      ]
     },
     "execution_count": 46,
     "metadata": {},
     "output_type": "execute_result"
    }
   ],
   "source": [
    "df3.head()"
   ]
  },
  {
   "cell_type": "code",
   "execution_count": 47,
   "metadata": {},
   "outputs": [
    {
     "name": "stdout",
     "output_type": "stream",
     "text": [
      "21004\n"
     ]
    }
   ],
   "source": [
    "print(len(df3.name))"
   ]
  },
  {
   "cell_type": "code",
   "execution_count": 48,
   "metadata": {},
   "outputs": [
    {
     "name": "stdout",
     "output_type": "stream",
     "text": [
      "21004\n"
     ]
    }
   ],
   "source": [
    "print(len(set(df3.name)))"
   ]
  },
  {
   "cell_type": "code",
   "execution_count": null,
   "metadata": {},
   "outputs": [],
   "source": []
  }
 ],
 "metadata": {
  "kernelspec": {
   "display_name": "Python [conda env:fyp] *",
   "language": "python",
   "name": "conda-env-fyp-py"
  },
  "language_info": {
   "codemirror_mode": {
    "name": "ipython",
    "version": 3
   },
   "file_extension": ".py",
   "mimetype": "text/x-python",
   "name": "python",
   "nbconvert_exporter": "python",
   "pygments_lexer": "ipython3",
   "version": "3.6.9"
  }
 },
 "nbformat": 4,
 "nbformat_minor": 4
}
