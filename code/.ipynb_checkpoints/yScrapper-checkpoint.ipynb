{
 "cells": [
  {
   "cell_type": "code",
   "execution_count": 1,
   "metadata": {},
   "outputs": [],
   "source": [
    "import mechanize\n",
    "br = mechanize.Browser()"
   ]
  },
  {
   "cell_type": "code",
   "execution_count": 56,
   "metadata": {},
   "outputs": [],
   "source": [
    "food=\"dosa\"\n",
    "url=\"https://www.yummly.com/recipes?q=\"+food+\"&taste-pref-appended=true\"\n",
    "response=br.open(url)"
   ]
  },
  {
   "cell_type": "code",
   "execution_count": 57,
   "metadata": {},
   "outputs": [],
   "source": [
    "from bs4 import BeautifulSoup\n",
    "soup = BeautifulSoup(response.read(), 'html.parser')"
   ]
  },
  {
   "cell_type": "code",
   "execution_count": 58,
   "metadata": {},
   "outputs": [],
   "source": [
    "recipeContainer=soup.find_all(\"div\",class_=\"RecipeContainer\")"
   ]
  },
  {
   "cell_type": "code",
   "execution_count": 59,
   "metadata": {},
   "outputs": [],
   "source": [
    "foodContainer=recipeContainer[0].find(class_=\"recipe-card ingredients-hover single-recipe\")"
   ]
  },
  {
   "cell_type": "code",
   "execution_count": 60,
   "metadata": {},
   "outputs": [
    {
     "name": "stdout",
     "output_type": "stream",
     "text": [
      "<div class=\"recipe-card ingredients-hover single-recipe\" data-url=\"Dosa-1100398\" role=\"link\"><div class=\"recipe-card-img-wrapper\"><img class=\"recipe-card-img\" src=\"https://x.yummlystatic.com/s/5c09e551a/img/1x1.png\"/><img class=\"recipe-card-img placeholder\" src=\"https://x.yummlystatic.com/s/5c09e551a/img/1x1.png\"/><a aria-label=\"Dosa\" class=\"card-ingredients font-light micro-text flex-column\" href=\"/recipe/Dosa-1100398\" tabindex=\"-1\" title=\"Dosa\"><span title=\"poha, salt, rice, water, fenugreek seeds, urad dal\">poha, salt, rice, water, fenugreek seeds, urad dal</span></a></div><a aria-label=\"Dosa\" class=\"link-overlay\" href=\"/recipe/Dosa-1100398\" tabindex=\"-1\" title=\"Dosa\"></a><div class=\"card-info-wrapper flex-row\"><div class=\"card-info primary-dark\"><a aria-label=\"Dosa\" class=\"card-title p2-text font-normal\" href=\"/recipe/Dosa-1100398\" title=\"Dosa\">Dosa</a><span class=\"card-source micro-text font-normal greyscale-2\"><a aria-label=\"Revi's Foodography\" class=\"source-link truncate-single-line\" href=\"/page/revisfoodography\" title=\"Revi's Foodography\">Revi's Foodography</a></span></div><div class=\"yum-button-wrapper\"></div></div></div>\n"
     ]
    }
   ],
   "source": [
    "print(foodContainer)"
   ]
  },
  {
   "cell_type": "code",
   "execution_count": 61,
   "metadata": {},
   "outputs": [
    {
     "data": {
      "text/plain": [
       "'Dosa-1100398'"
      ]
     },
     "execution_count": 61,
     "metadata": {},
     "output_type": "execute_result"
    }
   ],
   "source": [
    "foodContainer[\"data-url\"]"
   ]
  },
  {
   "cell_type": "code",
   "execution_count": 71,
   "metadata": {},
   "outputs": [],
   "source": [
    "url=\"https://www.yummly.com/recipe/\"+foodContainer[\"data-url\"]"
   ]
  },
  {
   "cell_type": "code",
   "execution_count": 72,
   "metadata": {},
   "outputs": [],
   "source": [
    "response=br.open(url)"
   ]
  },
  {
   "cell_type": "code",
   "execution_count": 73,
   "metadata": {},
   "outputs": [],
   "source": [
    "soup=BeautifulSoup(response.read(),'html.parser')"
   ]
  },
  {
   "cell_type": "code",
   "execution_count": 77,
   "metadata": {},
   "outputs": [],
   "source": [
    "cookbookDetails=soup.find(class_=\"recipe-details\")"
   ]
  },
  {
   "cell_type": "code",
   "execution_count": 80,
   "metadata": {},
   "outputs": [
    {
     "data": {
      "text/plain": [
       "<div class=\"recipe-details\"><div class=\"primary-info-text\"><div class=\"primary-info-left-wrapper\"><h1 class=\"recipe-title font-bold h2-text primary-dark\">Dosa</h1><span class=\"attribution\"><a aria-label=\"REVI's FOODOGRAPHY\" class=\"source-link font-bold micro-text greyscale-3\" href=\"/page/revisfoodography\" title=\"REVI's FOODOGRAPHY\">REVI'S FOODOGRAPHY</a></span><a aria-label=\"See Reviews\" class=\"recipe-details-rating p2-text primary-orange\" href=\"#reviews\" title=\"See Reviews\"><span class=\"icon full-star y-icon\" data-icon=\"\" data-star-number=\"1\"></span><span class=\"icon full-star y-icon\" data-icon=\"\" data-star-number=\"2\"></span><span class=\"icon full-star y-icon\" data-icon=\"\" data-star-number=\"3\"></span><span class=\"icon full-star y-icon\" data-icon=\"\" data-star-number=\"4\"></span><span class=\"icon full-star y-icon\" data-icon=\"\" data-star-number=\"5\"></span><span class=\"count font-bold micro-text\">(1)</span></a></div></div><div class=\"review-snippet media\"><div class=\"review-content font-normal p2-text\"><a aria-label=\"Priya Shah\" class=\"reviewer-name font-bold\" href=\"/profile/PriyaShah7\" title=\"Priya Shah\">Priya Shah</a>: \"It turned out nice and soft. Awesome Recipe!! Lov…\" <a aria-label=\"Read More\" class=\"review-link font-bold p3-text primary-teal\" href=\"#821dfa55-7809-4e08-b797-86ea65bbac8a\" title=\"Read More\">Read More</a></div></div><div class=\"summary-item-wrapper\"><div class=\"recipe-summary-item h2-text\"><span class=\"value font-light h2-text\">6</span><span class=\"unit font-normal p3-text\">Ingredients</span></div><div class=\"recipe-summary-item unit h2-text\"><span class=\"value font-light h2-text\">14</span><span class=\"unit font-normal p3-text\">Hours</span></div><div class=\"recipe-summary-item nutrition h2-text\"><span class=\"value font-light h2-text\">360</span><span class=\"unit font-normal p3-text\">Calories</span></div></div><div class=\"recipe-interactions-wrapper\"><a aria-label=\"Read Directions\" class=\"read-dir-btn btn-primary wrapper recipe-summary-full-directions p1-text\" href=\"#directions\" title=\"Read Directions\"><span class=\"p3-text\">Read Directions</span></a><div class=\"recipe-details-yum-button yum-button-wrapper\"></div></div></div>"
      ]
     },
     "execution_count": 80,
     "metadata": {},
     "output_type": "execute_result"
    }
   ],
   "source": [
    "cookbookDetails\n"
   ]
  },
  {
   "cell_type": "code",
   "execution_count": 89,
   "metadata": {},
   "outputs": [],
   "source": [
    "reviewUrl=\"https://www.yummly.com/recipe/\"+foodContainer[\"data-url\"]+\"#reviews\""
   ]
  },
  {
   "cell_type": "code",
   "execution_count": 90,
   "metadata": {},
   "outputs": [],
   "source": [
    "response=br.open(reviewUrl)"
   ]
  },
  {
   "cell_type": "code",
   "execution_count": 91,
   "metadata": {},
   "outputs": [],
   "source": [
    "soup=BeautifulSoup(response.read(),'html.parser')"
   ]
  },
  {
   "cell_type": "code",
   "execution_count": 102,
   "metadata": {},
   "outputs": [
    {
     "name": "stdout",
     "output_type": "stream",
     "text": [
      "['icon', 'full-star', 'y-icon']\n",
      "['icon', 'full-star', 'y-icon']\n",
      "['icon', 'full-star', 'y-icon']\n",
      "['icon', 'full-star', 'y-icon']\n",
      "['icon', 'full-star', 'y-icon']\n",
      "[{'food_item': 'dosa', 'name': 'Priya Shah 2 years ago', 'rating': 5, 'review': 'It turned out nice and soft. Awesome Recipe!! Love Yummly!!!!'}]\n"
     ]
    }
   ],
   "source": [
    "allReviews=soup.find_all(\"div\",class_=\"review media\")\n",
    "reviews=[]\n",
    "\n",
    "for eachReview in allReviews:\n",
    "    body=dict()\n",
    "    body[\"food_item\"]=food\n",
    "    body[\"name\"]=eachReview.find(class_=\"review-name\").get_text()\n",
    "#     reviewName=reviews[0].find_all(\"div\",class_=\"review-name\")\n",
    "    stars=eachReview.find(class_=\"review-rating\").find_all(\"span\")\n",
    "    cnt=0\n",
    "#     print(stars)\n",
    "    for st in stars:\n",
    "        print(st[\"class\"])\n",
    "        if(st[\"class\"][1].startswith(\"full-star\")):\n",
    "            cnt+=1\n",
    "    body[\"rating\"]=cnt\n",
    "    body[\"review\"]=eachReview.find(class_=\"review-text font-normal p2-text\").get_text()\n",
    "    reviews.append(body)\n",
    "\n",
    "print(reviews)\n"
   ]
  },
  {
   "cell_type": "code",
   "execution_count": 142,
   "metadata": {},
   "outputs": [
    {
     "name": "stdout",
     "output_type": "stream",
     "text": [
      "Dosa-1100398\n",
      "['icon', 'full-star', 'y-icon']\n",
      "['icon', 'full-star', 'y-icon']\n",
      "['icon', 'full-star', 'y-icon']\n",
      "['icon', 'full-star', 'y-icon']\n",
      "['icon', 'full-star', 'y-icon']\n",
      "[{'food_item': 'dosa', 'name': 'Priya Shah 2 years ago', 'rating': 5, 'review': 'It turned out nice and soft. Awesome Recipe!! Love Yummly!!!!'}]\n"
     ]
    }
   ],
   "source": [
    "def getFoodReviews(food):\n",
    "    url=\"https://www.yummly.com/recipes?q=\"+food+\"&taste-pref-appended=true\"\n",
    "    response=br.open(url)\n",
    "    soup = BeautifulSoup(response.read(), 'html.parser')\n",
    "    recipeContainer=soup.find_all(\"div\",class_=\"RecipeContainer\")\n",
    "    #recipeContainer=soup.find_all(\"div\",class_=\"recipe-card ingredients-hover single-recipe visible\")\n",
    "   #print(recipeContainer)\n",
    "    foodContainer=recipeContainer[0].find_all(\"div\")\n",
    "    #print(foodContainer)\n",
    "    foodCode=foodContainer[0][\"data-url\"]\n",
    "    print(foodContainer[0][\"data-url\"])\n",
    "    url=\"https://www.yummly.com/recipe/\"+foodCode\n",
    "    response=br.open(url)\n",
    "    soup=BeautifulSoup(response.read(),'html.parser')\n",
    "    cookbookDetails=soup.find(class_=\"recipe-details\")\n",
    "    reviewUrl=\"https://www.yummly.com/recipe/\"+foodCode+\"#reviews\"\n",
    "    response=br.open(reviewUrl)\n",
    "    soup=BeautifulSoup(response.read(),'html.parser')\n",
    "    allReviews=soup.find_all(\"div\",class_=\"review media\")\n",
    "    reviews=[]\n",
    "\n",
    "    for eachReview in allReviews:\n",
    "        body=dict()\n",
    "        body[\"food_item\"]=food\n",
    "        body[\"name\"]=eachReview.find(class_=\"review-name\").get_text()\n",
    "    #     reviewName=reviews[0].find_all(\"div\",class_=\"review-name\")\n",
    "        stars=eachReview.find(class_=\"review-rating\").find_all(\"span\")\n",
    "        cnt=0\n",
    "    #     print(stars)\n",
    "        for st in stars:\n",
    "            #print(st[\"class\"])\n",
    "            if(st[\"class\"][1].startswith(\"full-star\")):\n",
    "                cnt+=1\n",
    "        body[\"rating\"]=cnt\n",
    "        body[\"review\"]=eachReview.find(class_=\"review-text font-normal p2-text\").get_text()\n",
    "        reviews.append(body)\n",
    "\n",
    "    print(reviews)\n",
    "    return reviews\n",
    "x=getFoodReviews(\"dosa\")\n",
    "\n",
    "\n"
   ]
  },
  {
   "cell_type": "code",
   "execution_count": 170,
   "metadata": {
    "scrolled": false
   },
   "outputs": [
    {
     "name": "stdout",
     "output_type": "stream",
     "text": [
      "152\n",
      "/recipe/Roasted-Chickpeas-2528816\n",
      "/recipe/Roasted-Chickpeas-2528816\n",
      "/recipe/Roasted-Chickpeas-2528816\n",
      "/recipe/Crispy-Roasted-Taco-Chickpeas-2455270\n",
      "/recipe/Crispy-Roasted-Taco-Chickpeas-2455270\n",
      "/recipe/Crispy-Roasted-Taco-Chickpeas-2455270\n",
      "/recipe/Roasted-Chickpeas-_Garbanzo-Beans_-1444186\n",
      "/recipe/Roasted-Chickpeas-_Garbanzo-Beans_-1444186\n",
      "/recipe/Roasted-Chickpeas-_Garbanzo-Beans_-1444186\n",
      "/recipe/Garlic-and-Herb-Roasted-Chickpeas-9085172\n",
      "/recipe/Garlic-and-Herb-Roasted-Chickpeas-9085172\n",
      "/recipe/Garlic-and-Herb-Roasted-Chickpeas-9085172\n",
      "/recipe/Crispy-Spicy-Roasted-Chickpeas-2512961\n",
      "/recipe/Crispy-Spicy-Roasted-Chickpeas-2512961\n",
      "/recipe/Crispy-Spicy-Roasted-Chickpeas-2512961\n",
      "/recipe/Roasted-Buffalo-Chickpeas-1025357\n",
      "/recipe/Roasted-Buffalo-Chickpeas-1025357\n",
      "/recipe/Roasted-Buffalo-Chickpeas-1025357\n",
      "/recipe/Roasted-Chickpea-Snack-1639519\n",
      "/recipe/Roasted-Chickpea-Snack-1639519\n",
      "/recipe/Roasted-Chickpea-Snack-1639519\n",
      "/recipe/BBQ-roasted-chickpeas-2541916\n",
      "/recipe/BBQ-roasted-chickpeas-2541916\n",
      "/recipe/BBQ-roasted-chickpeas-2541916\n",
      "/recipe/Roasted-Chickpeas-2702421\n",
      "/recipe/Roasted-Chickpeas-2702421\n",
      "/recipe/Roasted-Chickpeas-2702421\n",
      "/recipe/Simple-Roasted-Chickpeas-9073086\n",
      "/recipe/Simple-Roasted-Chickpeas-9073086\n",
      "/recipe/Simple-Roasted-Chickpeas-9073086\n",
      "/recipe/Crispy-Roasted-Chickpeas-2657285\n",
      "/recipe/Crispy-Roasted-Chickpeas-2657285\n",
      "/recipe/Crispy-Roasted-Chickpeas-2657285\n",
      "/recipe/Honey-Roasted-Chickpeas-9085173\n",
      "/recipe/Honey-Roasted-Chickpeas-9085173\n",
      "/recipe/Honey-Roasted-Chickpeas-9085173\n",
      "/recipe/Roasted-Chickpea-1063122\n",
      "/recipe/Roasted-Chickpea-1063122\n",
      "/recipe/Roasted-Chickpea-1063122\n",
      "/recipe/Parmesan-Roasted-Chickpeas-1826906\n",
      "/recipe/Parmesan-Roasted-Chickpeas-1826906\n",
      "/recipe/Parmesan-Roasted-Chickpeas-1826906\n",
      "/recipe/Roasted-Chickpeas-2235763\n",
      "/recipe/Roasted-Chickpeas-2235763\n",
      "/recipe/Roasted-Chickpeas-2235763\n",
      "/recipe/Honey-Roasted-Chickpea-2698196\n",
      "/recipe/Honey-Roasted-Chickpea-2698196\n",
      "/recipe/Honey-Roasted-Chickpea-2698196\n",
      "/recipe/Fat-Free-Roasted-Chickpeas-9083660\n",
      "/recipe/Fat-Free-Roasted-Chickpeas-9083660\n",
      "/recipe/Fat-Free-Roasted-Chickpeas-9083660\n",
      "/recipe/Garlic-Parmesan-Roasted-Chickpeas-471063\n",
      "/recipe/Garlic-Parmesan-Roasted-Chickpeas-471063\n",
      "/recipe/Garlic-Parmesan-Roasted-Chickpeas-471063\n",
      "/recipe/Crispy-Asian-Roasted-Chickpeas-1638811\n",
      "/recipe/Crispy-Asian-Roasted-Chickpeas-1638811\n",
      "/recipe/Crispy-Asian-Roasted-Chickpeas-1638811\n",
      "/recipe/Savory-Roasted-Chickpeas-2557618\n",
      "/recipe/Savory-Roasted-Chickpeas-2557618\n",
      "/recipe/Savory-Roasted-Chickpeas-2557618\n",
      "/recipe/Crunchy-Roasted-Cumin-Chickpeas-9101047\n",
      "/recipe/Crunchy-Roasted-Cumin-Chickpeas-9101047\n",
      "/recipe/Crunchy-Roasted-Cumin-Chickpeas-9101047\n",
      "/recipe/Roasted-Chickpeas-965353\n",
      "/recipe/Roasted-Chickpeas-965353\n",
      "/recipe/Roasted-Chickpeas-965353\n",
      "/recipe/Crispy-BBQ-Roasted-Chickpeas-1236727\n",
      "/recipe/Crispy-BBQ-Roasted-Chickpeas-1236727\n",
      "/recipe/Crispy-BBQ-Roasted-Chickpeas-1236727\n",
      "/recipe/Curried-Roasted-Chickpeas-1350608\n",
      "/recipe/Curried-Roasted-Chickpeas-1350608\n",
      "/recipe/Curried-Roasted-Chickpeas-1350608\n",
      "/recipe/Roasted-Honey-Cinnamon-Chickpeas-1587498\n",
      "/recipe/Roasted-Honey-Cinnamon-Chickpeas-1587498\n",
      "/recipe/Roasted-Honey-Cinnamon-Chickpeas-1587498\n",
      "/recipe/Roasted-Chickpeas-9070457\n",
      "/recipe/Roasted-Chickpeas-9070457\n",
      "/recipe/Roasted-Chickpeas-9070457\n",
      "/recipe/Chipotle-Roasted-Chickpeas-in-a-Jar-1047404\n",
      "/recipe/Chipotle-Roasted-Chickpeas-in-a-Jar-1047404\n",
      "/recipe/Chipotle-Roasted-Chickpeas-in-a-Jar-1047404\n",
      "/recipe/Roasted-Spiced-Chickpeas-9067988\n",
      "/recipe/Roasted-Spiced-Chickpeas-9067988\n",
      "/recipe/Roasted-Spiced-Chickpeas-9067988\n",
      "/recipe/Garlic-Parmesan-Roasted-Chickpeas-1066514\n",
      "/recipe/Garlic-Parmesan-Roasted-Chickpeas-1066514\n",
      "/recipe/Garlic-Parmesan-Roasted-Chickpeas-1066514\n",
      "/recipe/Cumin-Lime-Roasted-Chickpeas-2385205\n",
      "/recipe/Cumin-Lime-Roasted-Chickpeas-2385205\n",
      "/recipe/Cumin-Lime-Roasted-Chickpeas-2385205\n",
      "/recipe/Garlicky-Roasted-Chickpeas-1892450\n",
      "/recipe/Garlicky-Roasted-Chickpeas-1892450\n",
      "/recipe/Garlicky-Roasted-Chickpeas-1892450\n",
      "/recipe/Crispy-Roasted-Taco-Chickpeas-1583947\n",
      "/recipe/Crispy-Roasted-Taco-Chickpeas-1583947\n",
      "/recipe/Crispy-Roasted-Taco-Chickpeas-1583947\n",
      "/recipe/Crunchy-Barbecue-Roasted-Chickpeas-2490176\n",
      "/recipe/Crunchy-Barbecue-Roasted-Chickpeas-2490176\n",
      "/recipe/Crunchy-Barbecue-Roasted-Chickpeas-2490176\n",
      "/recipe/CURRY-_-SRIRACHA-ROASTED-CHICKPEAS-2378504\n",
      "/recipe/CURRY-_-SRIRACHA-ROASTED-CHICKPEAS-2378504\n",
      "/recipe/CURRY-_-SRIRACHA-ROASTED-CHICKPEAS-2378504\n",
      "/recipe/Savory-Roasted-Chickpeas-1079300\n",
      "/recipe/Savory-Roasted-Chickpeas-1079300\n",
      "/recipe/Savory-Roasted-Chickpeas-1079300\n",
      "/recipe/Hummus-and-Mutabel-2029598\n",
      "/recipe/Hummus-and-Mutabel-2029598\n",
      "/recipe/Hummus-and-Mutabel-2029598\n",
      "/recipe/Mediterranean-Salad-627119\n",
      "/recipe/Mediterranean-Salad-627119\n",
      "/recipe/Mediterranean-Salad-627119\n",
      "/recipe/Tlalpeno-Soup-627071\n",
      "/recipe/Tlalpeno-Soup-627071\n",
      "/recipe/Tlalpeno-Soup-627071\n",
      "[{'food_item': 'Roasted chickpeas', 'name': 'Brittani Lee', 'rating': 5, 'review': 'so good!! we will definitely have this often.'}, {'food_item': 'Roasted chickpeas', 'name': 'Lisa Ritchel', 'rating': 5, 'review': 'very delicious and super easy to make. perfect healthy snack!'}, {'food_item': 'Roasted chickpeas', 'name': 'Elijah Ruby', 'rating': 4, 'review': 'Cook time was a little too long but great flavor. I will make again'}, {'food_item': 'Roasted chickpeas', 'name': 'Nathan Berry', 'rating': 4, 'review': 'Cooking time was too long for 220 degrees Celsius.'}, {'food_item': 'Roasted chickpeas', 'name': 'Jamie Addy-Houser', 'rating': 3, 'review': 'I’ll season more generously next time'}, {'food_item': 'Roasted chickpeas', 'name': 'Anneli', 'rating': 5, 'review': 'Yummly! Used paprika and some cayenne pepper. Will definitely make again!'}, {'food_item': 'Roasted chickpeas', 'name': 'April', 'rating': 5, 'review': 'Delicious. Easy to change the spices to make whatever flavour you want!'}, {'food_item': 'Roasted chickpeas', 'name': 'J C', 'rating': 5, 'review': 'Really good, omitted cayenne D used smoked paprika instead. Roasted for 40 min and just a few were burnt.'}, {'food_item': 'Roasted chickpeas', 'name': 'Sarah', 'rating': 5, 'review': 'Perfect, convenient snack! I can imagine changing the spices to whatever I want each time: curry, cumin, cayenne, dill...The possibilities are endless for this wholesome snack.'}, {'food_item': 'Roasted chickpeas', 'name': 'Sarah Grimm', 'rating': 3, 'review': 'The recipe is simple and somewhat good, but i definitely advised to specify how to get rid of the skin. Seasoning needs more flavor and longer cooking time. Overall, its a good recipe and absolutely recommend this to parents.'}, {'food_item': 'Roasted chickpeas', 'name': 'Kayla Moses', 'rating': 5, 'review': 'these are one of the families favourite snacks to make, super easy, and full of flavour!'}, {'food_item': 'Roasted chickpeas', 'name': 'Marlene Evans', 'rating': 4, 'review': 'So I cooked the chickpeas in the oven will taste tomorrow. The smell is so full of aromas that make your taste buds droll'}, {'food_item': 'Roasted chickpeas', 'name': 'cocinera', 'rating': 5, 'review': 'I removed all the skins, time consuming but worth it. Used sea salt, lemon pepper, smoked paprika and extra virgin oil.'}, {'food_item': 'Roasted chickpeas', 'name': 'Nicole Bergstedt', 'rating': 5, 'review': 'I added only a little salt and oil, because I wanted the kids to eat it too. Made it in the airfryer. Delicious!!'}, {'food_item': 'Roasted chickpeas', 'name': 'du Toit', 'rating': 5, 'review': 'Yummy!!!\\nI added some lemon juice, would definitely make it again!'}, {'food_item': 'Roasted chickpeas', 'name': 'Ailbhe Kelly', 'rating': 3, 'review': 'They were good but the flavour wasn’t as strong as I would have liked - maybe I just need to add more paprika .. would leave longer to make more crispy and the peeling of the skins is quite tedious but not bad overall!'}, {'food_item': 'Roasted chickpeas', 'name': 'amee', 'rating': 5, 'review': 'perfect😍😍\\nTo make more flavour we put some Tuscan Seasoning'}, {'food_item': 'Roasted chickpeas', 'name': 'Mia', 'rating': 5, 'review': 'nice and crunchy yet soft if you leave it for about 30 minutes! gets the nice flavor of the paprika and everything. will be making this again'}, {'food_item': 'Roasted chickpeas', 'name': 'marixa gonzalez', 'rating': 5, 'review': 'They were good. didnt realize I had to remove a layer. But, a nice snack.'}, {'food_item': 'Roasted chickpeas', 'name': 'Mitsuriya', 'rating': 5, 'review': 'Really delicious, have already made 4 times.'}, {'food_item': 'Roasted chickpeas', 'name': 'Barbara Miller', 'rating': 5, 'review': 'Great we Love it \\n it is not something I would have all the time'}, {'food_item': 'Roasted chickpeas', 'name': 'Katelyn', 'rating': 5, 'review': 'The perfect snack and so healthy 😍'}, {'food_item': 'Roasted chickpeas', 'name': 'Maddy', 'rating': 3, 'review': 'Needed to cook longer to get more crunchy. Other than that they were good.'}, {'food_item': 'Roasted chickpeas', 'name': 'mark simpson', 'rating': 4, 'review': 'Delicious, quick and an interesting recipe.'}, {'food_item': 'Roasted chickpeas', 'name': 'D', 'rating': 3, 'review': 'took some time to get the \"skins\" off the chickpeas and i overcooked it but worth another try'}, {'food_item': 'Roasted chickpeas', 'name': 'David Friess', 'rating': 4, 'review': 'This was a quick, cheap and easy snack to make. You can add or change spices depending on what your preference is. I added chili powder for a little heat. My daughter absolutely loved them.'}, {'food_item': 'Roasted chickpeas', 'name': 'Mackenzie K.', 'rating': 5, 'review': 'Really yummy and plenty of crunch!'}, {'food_item': 'Roasted chickpeas', 'name': 'Ilene Heller', 'rating': 3, 'review': 'Nice and crunchy!\\nI will use more seasoning next time.\\nGlad i removed the skins..had never done that before.'}, {'food_item': 'Roasted chickpeas', 'name': 'Liz Leaf', 'rating': 5, 'review': 'If you dry bake them (no need to pat dry) for 30min at 350 before tossing in oil and spices, then return to oven for another 15-20, they turn out amazing. I eat these almost every day! Filling, healthy, cheap.'}, {'food_item': 'Roasted chickpeas', 'name': 'Julie', 'rating': 4, 'review': 'Easy to make. Tasty snack. Very filling.'}, {'food_item': 'Roasted chickpeas', 'name': 'Brittani Lee', 'rating': 5, 'review': 'so good!! we will definitely have this often.'}, {'food_item': 'Roasted chickpeas', 'name': 'Lisa Ritchel', 'rating': 5, 'review': 'very delicious and super easy to make. perfect healthy snack!'}, {'food_item': 'Roasted chickpeas', 'name': 'Elijah Ruby', 'rating': 4, 'review': 'Cook time was a little too long but great flavor. I will make again'}, {'food_item': 'Roasted chickpeas', 'name': 'Nathan Berry', 'rating': 4, 'review': 'Cooking time was too long for 220 degrees Celsius.'}, {'food_item': 'Roasted chickpeas', 'name': 'Jamie Addy-Houser', 'rating': 3, 'review': 'I’ll season more generously next time'}, {'food_item': 'Roasted chickpeas', 'name': 'Anneli', 'rating': 5, 'review': 'Yummly! Used paprika and some cayenne pepper. Will definitely make again!'}, {'food_item': 'Roasted chickpeas', 'name': 'April', 'rating': 5, 'review': 'Delicious. Easy to change the spices to make whatever flavour you want!'}, {'food_item': 'Roasted chickpeas', 'name': 'J C', 'rating': 5, 'review': 'Really good, omitted cayenne D used smoked paprika instead. Roasted for 40 min and just a few were burnt.'}, {'food_item': 'Roasted chickpeas', 'name': 'Sarah', 'rating': 5, 'review': 'Perfect, convenient snack! I can imagine changing the spices to whatever I want each time: curry, cumin, cayenne, dill...The possibilities are endless for this wholesome snack.'}, {'food_item': 'Roasted chickpeas', 'name': 'Sarah Grimm', 'rating': 3, 'review': 'The recipe is simple and somewhat good, but i definitely advised to specify how to get rid of the skin. Seasoning needs more flavor and longer cooking time. Overall, its a good recipe and absolutely recommend this to parents.'}, {'food_item': 'Roasted chickpeas', 'name': 'Kayla Moses', 'rating': 5, 'review': 'these are one of the families favourite snacks to make, super easy, and full of flavour!'}, {'food_item': 'Roasted chickpeas', 'name': 'Marlene Evans', 'rating': 4, 'review': 'So I cooked the chickpeas in the oven will taste tomorrow. The smell is so full of aromas that make your taste buds droll'}, {'food_item': 'Roasted chickpeas', 'name': 'cocinera', 'rating': 5, 'review': 'I removed all the skins, time consuming but worth it. Used sea salt, lemon pepper, smoked paprika and extra virgin oil.'}, {'food_item': 'Roasted chickpeas', 'name': 'Nicole Bergstedt', 'rating': 5, 'review': 'I added only a little salt and oil, because I wanted the kids to eat it too. Made it in the airfryer. Delicious!!'}, {'food_item': 'Roasted chickpeas', 'name': 'du Toit', 'rating': 5, 'review': 'Yummy!!!\\nI added some lemon juice, would definitely make it again!'}, {'food_item': 'Roasted chickpeas', 'name': 'Ailbhe Kelly', 'rating': 3, 'review': 'They were good but the flavour wasn’t as strong as I would have liked - maybe I just need to add more paprika .. would leave longer to make more crispy and the peeling of the skins is quite tedious but not bad overall!'}, {'food_item': 'Roasted chickpeas', 'name': 'amee', 'rating': 5, 'review': 'perfect😍😍\\nTo make more flavour we put some Tuscan Seasoning'}, {'food_item': 'Roasted chickpeas', 'name': 'Mia', 'rating': 5, 'review': 'nice and crunchy yet soft if you leave it for about 30 minutes! gets the nice flavor of the paprika and everything. will be making this again'}, {'food_item': 'Roasted chickpeas', 'name': 'marixa gonzalez', 'rating': 5, 'review': 'They were good. didnt realize I had to remove a layer. But, a nice snack.'}, {'food_item': 'Roasted chickpeas', 'name': 'Mitsuriya', 'rating': 5, 'review': 'Really delicious, have already made 4 times.'}, {'food_item': 'Roasted chickpeas', 'name': 'Barbara Miller', 'rating': 5, 'review': 'Great we Love it \\n it is not something I would have all the time'}, {'food_item': 'Roasted chickpeas', 'name': 'Katelyn', 'rating': 5, 'review': 'The perfect snack and so healthy 😍'}, {'food_item': 'Roasted chickpeas', 'name': 'Maddy', 'rating': 3, 'review': 'Needed to cook longer to get more crunchy. Other than that they were good.'}, {'food_item': 'Roasted chickpeas', 'name': 'mark simpson', 'rating': 4, 'review': 'Delicious, quick and an interesting recipe.'}, {'food_item': 'Roasted chickpeas', 'name': 'D', 'rating': 3, 'review': 'took some time to get the \"skins\" off the chickpeas and i overcooked it but worth another try'}, {'food_item': 'Roasted chickpeas', 'name': 'David Friess', 'rating': 4, 'review': 'This was a quick, cheap and easy snack to make. You can add or change spices depending on what your preference is. I added chili powder for a little heat. My daughter absolutely loved them.'}, {'food_item': 'Roasted chickpeas', 'name': 'Mackenzie K.', 'rating': 5, 'review': 'Really yummy and plenty of crunch!'}, {'food_item': 'Roasted chickpeas', 'name': 'Ilene Heller', 'rating': 3, 'review': 'Nice and crunchy!\\nI will use more seasoning next time.\\nGlad i removed the skins..had never done that before.'}, {'food_item': 'Roasted chickpeas', 'name': 'Liz Leaf', 'rating': 5, 'review': 'If you dry bake them (no need to pat dry) for 30min at 350 before tossing in oil and spices, then return to oven for another 15-20, they turn out amazing. I eat these almost every day! Filling, healthy, cheap.'}, {'food_item': 'Roasted chickpeas', 'name': 'Julie', 'rating': 4, 'review': 'Easy to make. Tasty snack. Very filling.'}, {'food_item': 'Roasted chickpeas', 'name': 'Brittani Lee', 'rating': 5, 'review': 'so good!! we will definitely have this often.'}, {'food_item': 'Roasted chickpeas', 'name': 'Lisa Ritchel', 'rating': 5, 'review': 'very delicious and super easy to make. perfect healthy snack!'}, {'food_item': 'Roasted chickpeas', 'name': 'Elijah Ruby', 'rating': 4, 'review': 'Cook time was a little too long but great flavor. I will make again'}, {'food_item': 'Roasted chickpeas', 'name': 'Nathan Berry', 'rating': 4, 'review': 'Cooking time was too long for 220 degrees Celsius.'}, {'food_item': 'Roasted chickpeas', 'name': 'Jamie Addy-Houser', 'rating': 3, 'review': 'I’ll season more generously next time'}, {'food_item': 'Roasted chickpeas', 'name': 'Anneli', 'rating': 5, 'review': 'Yummly! Used paprika and some cayenne pepper. Will definitely make again!'}, {'food_item': 'Roasted chickpeas', 'name': 'April', 'rating': 5, 'review': 'Delicious. Easy to change the spices to make whatever flavour you want!'}, {'food_item': 'Roasted chickpeas', 'name': 'J C', 'rating': 5, 'review': 'Really good, omitted cayenne D used smoked paprika instead. Roasted for 40 min and just a few were burnt.'}, {'food_item': 'Roasted chickpeas', 'name': 'Sarah', 'rating': 5, 'review': 'Perfect, convenient snack! I can imagine changing the spices to whatever I want each time: curry, cumin, cayenne, dill...The possibilities are endless for this wholesome snack.'}, {'food_item': 'Roasted chickpeas', 'name': 'Sarah Grimm', 'rating': 3, 'review': 'The recipe is simple and somewhat good, but i definitely advised to specify how to get rid of the skin. Seasoning needs more flavor and longer cooking time. Overall, its a good recipe and absolutely recommend this to parents.'}, {'food_item': 'Roasted chickpeas', 'name': 'Kayla Moses', 'rating': 5, 'review': 'these are one of the families favourite snacks to make, super easy, and full of flavour!'}, {'food_item': 'Roasted chickpeas', 'name': 'Marlene Evans', 'rating': 4, 'review': 'So I cooked the chickpeas in the oven will taste tomorrow. The smell is so full of aromas that make your taste buds droll'}, {'food_item': 'Roasted chickpeas', 'name': 'cocinera', 'rating': 5, 'review': 'I removed all the skins, time consuming but worth it. Used sea salt, lemon pepper, smoked paprika and extra virgin oil.'}, {'food_item': 'Roasted chickpeas', 'name': 'Nicole Bergstedt', 'rating': 5, 'review': 'I added only a little salt and oil, because I wanted the kids to eat it too. Made it in the airfryer. Delicious!!'}, {'food_item': 'Roasted chickpeas', 'name': 'du Toit', 'rating': 5, 'review': 'Yummy!!!\\nI added some lemon juice, would definitely make it again!'}, {'food_item': 'Roasted chickpeas', 'name': 'Ailbhe Kelly', 'rating': 3, 'review': 'They were good but the flavour wasn’t as strong as I would have liked - maybe I just need to add more paprika .. would leave longer to make more crispy and the peeling of the skins is quite tedious but not bad overall!'}, {'food_item': 'Roasted chickpeas', 'name': 'amee', 'rating': 5, 'review': 'perfect😍😍\\nTo make more flavour we put some Tuscan Seasoning'}, {'food_item': 'Roasted chickpeas', 'name': 'Mia', 'rating': 5, 'review': 'nice and crunchy yet soft if you leave it for about 30 minutes! gets the nice flavor of the paprika and everything. will be making this again'}, {'food_item': 'Roasted chickpeas', 'name': 'marixa gonzalez', 'rating': 5, 'review': 'They were good. didnt realize I had to remove a layer. But, a nice snack.'}, {'food_item': 'Roasted chickpeas', 'name': 'Mitsuriya', 'rating': 5, 'review': 'Really delicious, have already made 4 times.'}, {'food_item': 'Roasted chickpeas', 'name': 'Barbara Miller', 'rating': 5, 'review': 'Great we Love it \\n it is not something I would have all the time'}, {'food_item': 'Roasted chickpeas', 'name': 'Katelyn', 'rating': 5, 'review': 'The perfect snack and so healthy 😍'}, {'food_item': 'Roasted chickpeas', 'name': 'Maddy', 'rating': 3, 'review': 'Needed to cook longer to get more crunchy. Other than that they were good.'}, {'food_item': 'Roasted chickpeas', 'name': 'mark simpson', 'rating': 4, 'review': 'Delicious, quick and an interesting recipe.'}, {'food_item': 'Roasted chickpeas', 'name': 'D', 'rating': 3, 'review': 'took some time to get the \"skins\" off the chickpeas and i overcooked it but worth another try'}, {'food_item': 'Roasted chickpeas', 'name': 'David Friess', 'rating': 4, 'review': 'This was a quick, cheap and easy snack to make. You can add or change spices depending on what your preference is. I added chili powder for a little heat. My daughter absolutely loved them.'}, {'food_item': 'Roasted chickpeas', 'name': 'Mackenzie K.', 'rating': 5, 'review': 'Really yummy and plenty of crunch!'}, {'food_item': 'Roasted chickpeas', 'name': 'Ilene Heller', 'rating': 3, 'review': 'Nice and crunchy!\\nI will use more seasoning next time.\\nGlad i removed the skins..had never done that before.'}, {'food_item': 'Roasted chickpeas', 'name': 'Liz Leaf', 'rating': 5, 'review': 'If you dry bake them (no need to pat dry) for 30min at 350 before tossing in oil and spices, then return to oven for another 15-20, they turn out amazing. I eat these almost every day! Filling, healthy, cheap.'}, {'food_item': 'Roasted chickpeas', 'name': 'Julie', 'rating': 4, 'review': 'Easy to make. Tasty snack. Very filling.'}, {'food_item': 'Roasted chickpeas', 'name': 'Angeles', 'rating': 5, 'review': 'Good, yummy. They were roared with great flavor. I added a little of lime juice and it give them a great taste'}, {'food_item': 'Roasted chickpeas', 'name': 'Angeles', 'rating': 5, 'review': 'Good, yummy. They were roared with great flavor. I added a little of lime juice and it give them a great taste'}, {'food_item': 'Roasted chickpeas', 'name': 'Angeles', 'rating': 5, 'review': 'Good, yummy. They were roared with great flavor. I added a little of lime juice and it give them a great taste'}, {'food_item': 'Roasted chickpeas', 'name': 'Laura Wilson', 'rating': 3, 'review': 'a bit spicy but ok! still enjoyable :) good experience'}, {'food_item': 'Roasted chickpeas', 'name': 'Christine', 'rating': 5, 'review': 'We ate these in a salad. Very yummy, though I think recoating halfway through cooking would make them even better. Tasty even on their own!'}, {'food_item': 'Roasted chickpeas', 'name': 'Debra Hockenbraugh-Trudeau', 'rating': 5, 'review': 'Yummy ! Great flavor'}, {'food_item': 'Roasted chickpeas', 'name': 'Laura Wilson', 'rating': 3, 'review': 'a bit spicy but ok! still enjoyable :) good experience'}, {'food_item': 'Roasted chickpeas', 'name': 'Christine', 'rating': 5, 'review': 'We ate these in a salad. Very yummy, though I think recoating halfway through cooking would make them even better. Tasty even on their own!'}, {'food_item': 'Roasted chickpeas', 'name': 'Debra Hockenbraugh-Trudeau', 'rating': 5, 'review': 'Yummy ! Great flavor'}, {'food_item': 'Roasted chickpeas', 'name': 'Laura Wilson', 'rating': 3, 'review': 'a bit spicy but ok! still enjoyable :) good experience'}, {'food_item': 'Roasted chickpeas', 'name': 'Christine', 'rating': 5, 'review': 'We ate these in a salad. Very yummy, though I think recoating halfway through cooking would make them even better. Tasty even on their own!'}, {'food_item': 'Roasted chickpeas', 'name': 'Debra Hockenbraugh-Trudeau', 'rating': 5, 'review': 'Yummy ! Great flavor'}, {'food_item': 'Roasted chickpeas', 'name': 'Pompom', 'rating': 4, 'review': 'The crunchy chickpeas really go well with the seasonings. Very good😄\\nThe only problem is that I feel like they take so long to make and then are gone so quickly💧'}, {'food_item': 'Roasted chickpeas', 'name': 'Aoife mccabe', 'rating': 4, 'review': 'Perfect crunch to add to a salad or burrito. Very simple and easy to make'}, {'food_item': 'Roasted chickpeas', 'name': 'Courtney Hernandez', 'rating': 4, 'review': 'Roasted a bit too long but we’re good. Recipe needed more salt. Would consider using lime juice and Tajin next time!'}, {'food_item': 'Roasted chickpeas', 'name': 'luksic', 'rating': 5, 'review': 'i make it with no oil and they were waaauuuu!!!'}, {'food_item': 'Roasted chickpeas', 'name': 'Jones', 'rating': 5, 'review': 'Super yummy! I didn’t have spray oil so I just tossed the chickpeas with a little liquid olive oil in a bowl and the dumped the seasoning on top. Easy. I will double this next time... it went quickly in my house!'}, {'food_item': 'Roasted chickpeas', 'name': 'KW', 'rating': 4, 'review': \"Very tasty! I loved the combination of spices. I left them in the oven for longer than the recipe said. They weren't crunchy all the way through, but I like them that way :)\"}, {'food_item': 'Roasted chickpeas', 'name': 'Anna J.', 'rating': 4, 'review': 'They turned out great! Great flavor!!Mine needed to roast for 60 minutes, but all turned out nice and crispy!'}, {'food_item': 'Roasted chickpeas', 'name': 'Baker', 'rating': 5, 'review': 'Loved these! Used regular salt instead of kosher, parsley in place of coriander, and chipotle chile rather than chili powder because I had them on hand. Added a pinch more salt than directed and a little less chipotle chile (still turned out a little spicier than I would’ve liked; spicy isn’t my thing). Cooked about 45 minutes; the chickpeas towards the edges of the cookie sheet cooked faster than the ones in the middle, so they were a little overcooked while the middle ones were slightly undercooked. I like them cooked to where they’re still a little creamy on the inside.'}, {'food_item': 'Roasted chickpeas', 'name': 'Wil', 'rating': 4, 'review': 'Great recipie! The instructions were easy to follow and the results were delicious!! I added a little more salt to match my taste preferences. Now that U see how easy this is to do, Im wondering ehst other flavor concoctions I can come up with.'}, {'food_item': 'Roasted chickpeas', 'name': 'Summer Haffner', 'rating': 5, 'review': 'I love roasting chickpeas. This is my favorite spice blend so far. I served these as a side with middle eastern lentils and rice.'}, {'food_item': 'Roasted chickpeas', 'name': 'Kidd', 'rating': 4, 'review': 'Flavoursome and filling'}, {'food_item': 'Roasted chickpeas', 'name': 'Karina Soboleva', 'rating': 5, 'review': 'Loved it! Tasty and healthy snack! I shook the baking pan every 7 min and they turned out to be nice and crispy.'}, {'food_item': 'Roasted chickpeas', 'name': 'Lindsay H.', 'rating': 4, 'review': 'Should have cooked it a little longer'}, {'food_item': 'Roasted chickpeas', 'name': 'Jill Burgess', 'rating': 4, 'review': 'The timing was off but with additional oven time they came out crunchy and tasty.'}, {'food_item': 'Roasted chickpeas', 'name': 'Amanda Chesney', 'rating': 3, 'review': \"Some turned out good, others didn't crisp up, the crunchy ones however, were very good\"}, {'food_item': 'Roasted chickpeas', 'name': 'Karen W.', 'rating': 5, 'review': 'Omg these are my new addiction. They are so easy to make. Must make a larger batch next time. xxxxxxx'}, {'food_item': 'Roasted chickpeas', 'name': 'Adam D.', 'rating': 5, 'review': 'I doubled the spices for 1 can of garbanzo beans and and it turned out great! My oven needed it to stay in there for a little longer than directed.'}, {'food_item': 'Roasted chickpeas', 'name': 'Pam Greene', 'rating': 5, 'review': \"Love these. I usually use regular salt and more than she calls for but they always turn out so delicious! Even the kids like them. Cut out the chili powder if you don't want them as spicy.\"}, {'food_item': 'Roasted chickpeas', 'name': 'Jennifer A.', 'rating': 4, 'review': \"Seasoning is delicious. I didn't roast long enough (40 minutes). Another five minutes and they would have been perfect. Will definitely make again.\"}, {'food_item': 'Roasted chickpeas', 'name': 'Pompom', 'rating': 4, 'review': 'The crunchy chickpeas really go well with the seasonings. Very good😄\\nThe only problem is that I feel like they take so long to make and then are gone so quickly💧'}, {'food_item': 'Roasted chickpeas', 'name': 'Aoife mccabe', 'rating': 4, 'review': 'Perfect crunch to add to a salad or burrito. Very simple and easy to make'}, {'food_item': 'Roasted chickpeas', 'name': 'Courtney Hernandez', 'rating': 4, 'review': 'Roasted a bit too long but we’re good. Recipe needed more salt. Would consider using lime juice and Tajin next time!'}, {'food_item': 'Roasted chickpeas', 'name': 'luksic', 'rating': 5, 'review': 'i make it with no oil and they were waaauuuu!!!'}, {'food_item': 'Roasted chickpeas', 'name': 'Jones', 'rating': 5, 'review': 'Super yummy! I didn’t have spray oil so I just tossed the chickpeas with a little liquid olive oil in a bowl and the dumped the seasoning on top. Easy. I will double this next time... it went quickly in my house!'}, {'food_item': 'Roasted chickpeas', 'name': 'KW', 'rating': 4, 'review': \"Very tasty! I loved the combination of spices. I left them in the oven for longer than the recipe said. They weren't crunchy all the way through, but I like them that way :)\"}, {'food_item': 'Roasted chickpeas', 'name': 'Anna J.', 'rating': 4, 'review': 'They turned out great! Great flavor!!Mine needed to roast for 60 minutes, but all turned out nice and crispy!'}, {'food_item': 'Roasted chickpeas', 'name': 'Baker', 'rating': 5, 'review': 'Loved these! Used regular salt instead of kosher, parsley in place of coriander, and chipotle chile rather than chili powder because I had them on hand. Added a pinch more salt than directed and a little less chipotle chile (still turned out a little spicier than I would’ve liked; spicy isn’t my thing). Cooked about 45 minutes; the chickpeas towards the edges of the cookie sheet cooked faster than the ones in the middle, so they were a little overcooked while the middle ones were slightly undercooked. I like them cooked to where they’re still a little creamy on the inside.'}, {'food_item': 'Roasted chickpeas', 'name': 'Wil', 'rating': 4, 'review': 'Great recipie! The instructions were easy to follow and the results were delicious!! I added a little more salt to match my taste preferences. Now that U see how easy this is to do, Im wondering ehst other flavor concoctions I can come up with.'}, {'food_item': 'Roasted chickpeas', 'name': 'Summer Haffner', 'rating': 5, 'review': 'I love roasting chickpeas. This is my favorite spice blend so far. I served these as a side with middle eastern lentils and rice.'}, {'food_item': 'Roasted chickpeas', 'name': 'Kidd', 'rating': 4, 'review': 'Flavoursome and filling'}, {'food_item': 'Roasted chickpeas', 'name': 'Karina Soboleva', 'rating': 5, 'review': 'Loved it! Tasty and healthy snack! I shook the baking pan every 7 min and they turned out to be nice and crispy.'}, {'food_item': 'Roasted chickpeas', 'name': 'Lindsay H.', 'rating': 4, 'review': 'Should have cooked it a little longer'}, {'food_item': 'Roasted chickpeas', 'name': 'Jill Burgess', 'rating': 4, 'review': 'The timing was off but with additional oven time they came out crunchy and tasty.'}, {'food_item': 'Roasted chickpeas', 'name': 'Amanda Chesney', 'rating': 3, 'review': \"Some turned out good, others didn't crisp up, the crunchy ones however, were very good\"}, {'food_item': 'Roasted chickpeas', 'name': 'Karen W.', 'rating': 5, 'review': 'Omg these are my new addiction. They are so easy to make. Must make a larger batch next time. xxxxxxx'}, {'food_item': 'Roasted chickpeas', 'name': 'Adam D.', 'rating': 5, 'review': 'I doubled the spices for 1 can of garbanzo beans and and it turned out great! My oven needed it to stay in there for a little longer than directed.'}, {'food_item': 'Roasted chickpeas', 'name': 'Pam Greene', 'rating': 5, 'review': \"Love these. I usually use regular salt and more than she calls for but they always turn out so delicious! Even the kids like them. Cut out the chili powder if you don't want them as spicy.\"}, {'food_item': 'Roasted chickpeas', 'name': 'Jennifer A.', 'rating': 4, 'review': \"Seasoning is delicious. I didn't roast long enough (40 minutes). Another five minutes and they would have been perfect. Will definitely make again.\"}, {'food_item': 'Roasted chickpeas', 'name': 'Pompom', 'rating': 4, 'review': 'The crunchy chickpeas really go well with the seasonings. Very good😄\\nThe only problem is that I feel like they take so long to make and then are gone so quickly💧'}, {'food_item': 'Roasted chickpeas', 'name': 'Aoife mccabe', 'rating': 4, 'review': 'Perfect crunch to add to a salad or burrito. Very simple and easy to make'}, {'food_item': 'Roasted chickpeas', 'name': 'Courtney Hernandez', 'rating': 4, 'review': 'Roasted a bit too long but we’re good. Recipe needed more salt. Would consider using lime juice and Tajin next time!'}, {'food_item': 'Roasted chickpeas', 'name': 'luksic', 'rating': 5, 'review': 'i make it with no oil and they were waaauuuu!!!'}, {'food_item': 'Roasted chickpeas', 'name': 'Jones', 'rating': 5, 'review': 'Super yummy! I didn’t have spray oil so I just tossed the chickpeas with a little liquid olive oil in a bowl and the dumped the seasoning on top. Easy. I will double this next time... it went quickly in my house!'}, {'food_item': 'Roasted chickpeas', 'name': 'KW', 'rating': 4, 'review': \"Very tasty! I loved the combination of spices. I left them in the oven for longer than the recipe said. They weren't crunchy all the way through, but I like them that way :)\"}, {'food_item': 'Roasted chickpeas', 'name': 'Anna J.', 'rating': 4, 'review': 'They turned out great! Great flavor!!Mine needed to roast for 60 minutes, but all turned out nice and crispy!'}, {'food_item': 'Roasted chickpeas', 'name': 'Baker', 'rating': 5, 'review': 'Loved these! Used regular salt instead of kosher, parsley in place of coriander, and chipotle chile rather than chili powder because I had them on hand. Added a pinch more salt than directed and a little less chipotle chile (still turned out a little spicier than I would’ve liked; spicy isn’t my thing). Cooked about 45 minutes; the chickpeas towards the edges of the cookie sheet cooked faster than the ones in the middle, so they were a little overcooked while the middle ones were slightly undercooked. I like them cooked to where they’re still a little creamy on the inside.'}, {'food_item': 'Roasted chickpeas', 'name': 'Wil', 'rating': 4, 'review': 'Great recipie! The instructions were easy to follow and the results were delicious!! I added a little more salt to match my taste preferences. Now that U see how easy this is to do, Im wondering ehst other flavor concoctions I can come up with.'}, {'food_item': 'Roasted chickpeas', 'name': 'Summer Haffner', 'rating': 5, 'review': 'I love roasting chickpeas. This is my favorite spice blend so far. I served these as a side with middle eastern lentils and rice.'}, {'food_item': 'Roasted chickpeas', 'name': 'Kidd', 'rating': 4, 'review': 'Flavoursome and filling'}, {'food_item': 'Roasted chickpeas', 'name': 'Karina Soboleva', 'rating': 5, 'review': 'Loved it! Tasty and healthy snack! I shook the baking pan every 7 min and they turned out to be nice and crispy.'}, {'food_item': 'Roasted chickpeas', 'name': 'Lindsay H.', 'rating': 4, 'review': 'Should have cooked it a little longer'}, {'food_item': 'Roasted chickpeas', 'name': 'Jill Burgess', 'rating': 4, 'review': 'The timing was off but with additional oven time they came out crunchy and tasty.'}, {'food_item': 'Roasted chickpeas', 'name': 'Amanda Chesney', 'rating': 3, 'review': \"Some turned out good, others didn't crisp up, the crunchy ones however, were very good\"}, {'food_item': 'Roasted chickpeas', 'name': 'Karen W.', 'rating': 5, 'review': 'Omg these are my new addiction. They are so easy to make. Must make a larger batch next time. xxxxxxx'}, {'food_item': 'Roasted chickpeas', 'name': 'Adam D.', 'rating': 5, 'review': 'I doubled the spices for 1 can of garbanzo beans and and it turned out great! My oven needed it to stay in there for a little longer than directed.'}, {'food_item': 'Roasted chickpeas', 'name': 'Pam Greene', 'rating': 5, 'review': \"Love these. I usually use regular salt and more than she calls for but they always turn out so delicious! Even the kids like them. Cut out the chili powder if you don't want them as spicy.\"}, {'food_item': 'Roasted chickpeas', 'name': 'Jennifer A.', 'rating': 4, 'review': \"Seasoning is delicious. I didn't roast long enough (40 minutes). Another five minutes and they would have been perfect. Will definitely make again.\"}, {'food_item': 'Roasted chickpeas', 'name': 'Meg', 'rating': 5, 'review': 'I made a ton of these to include in my weekly buddha bowl lunches and they are fantastic. They taste best when they are fresh out of the oven but they also hold up well in the fridge and reheated and stay pretty crunchy!'}, {'food_item': 'Roasted chickpeas', 'name': 'Meg', 'rating': 5, 'review': 'I made a ton of these to include in my weekly buddha bowl lunches and they are fantastic. They taste best when they are fresh out of the oven but they also hold up well in the fridge and reheated and stay pretty crunchy!'}, {'food_item': 'Roasted chickpeas', 'name': 'Meg', 'rating': 5, 'review': 'I made a ton of these to include in my weekly buddha bowl lunches and they are fantastic. They taste best when they are fresh out of the oven but they also hold up well in the fridge and reheated and stay pretty crunchy!'}, {'food_item': 'Roasted chickpeas', 'name': 'Jaclyn Wieland', 'rating': 1, 'review': 'Kinda gross honestly. Just weird texture and honey flavor with bean, not my thing apparently.'}, {'food_item': 'Roasted chickpeas', 'name': 'Jaclyn Wieland', 'rating': 1, 'review': 'Kinda gross honestly. Just weird texture and honey flavor with bean, not my thing apparently.'}, {'food_item': 'Roasted chickpeas', 'name': 'Jaclyn Wieland', 'rating': 1, 'review': 'Kinda gross honestly. Just weird texture and honey flavor with bean, not my thing apparently.'}, {'food_item': 'Roasted chickpeas', 'name': 'Huffines', 'rating': 4, 'review': 'i made theselastnight to take to a picknick, they turned iut great.'}, {'food_item': 'Roasted chickpeas', 'name': 'Cami F.', 'rating': 4, 'review': 'I cooked them for 30 min and they are still soft'}, {'food_item': 'Roasted chickpeas', 'name': 'quinteze Williams', 'rating': 5, 'review': 'Awesome sauce get \\nsnack on the go'}, {'food_item': 'Roasted chickpeas', 'name': 'Heather H.', 'rating': 5, 'review': 'Great recipe, mine were a little soft might try to leave in the oven longer next time'}, {'food_item': 'Roasted chickpeas', 'name': 'Brenda', 'rating': 5, 'review': 'Great savory snack, short prep time, loved it!'}, {'food_item': 'Roasted chickpeas', 'name': 'Huffines', 'rating': 4, 'review': 'i made theselastnight to take to a picknick, they turned iut great.'}, {'food_item': 'Roasted chickpeas', 'name': 'Cami F.', 'rating': 4, 'review': 'I cooked them for 30 min and they are still soft'}, {'food_item': 'Roasted chickpeas', 'name': 'quinteze Williams', 'rating': 5, 'review': 'Awesome sauce get \\nsnack on the go'}, {'food_item': 'Roasted chickpeas', 'name': 'Heather H.', 'rating': 5, 'review': 'Great recipe, mine were a little soft might try to leave in the oven longer next time'}, {'food_item': 'Roasted chickpeas', 'name': 'Brenda', 'rating': 5, 'review': 'Great savory snack, short prep time, loved it!'}, {'food_item': 'Roasted chickpeas', 'name': 'Huffines', 'rating': 4, 'review': 'i made theselastnight to take to a picknick, they turned iut great.'}, {'food_item': 'Roasted chickpeas', 'name': 'Cami F.', 'rating': 4, 'review': 'I cooked them for 30 min and they are still soft'}, {'food_item': 'Roasted chickpeas', 'name': 'quinteze Williams', 'rating': 5, 'review': 'Awesome sauce get \\nsnack on the go'}, {'food_item': 'Roasted chickpeas', 'name': 'Heather H.', 'rating': 5, 'review': 'Great recipe, mine were a little soft might try to leave in the oven longer next time'}, {'food_item': 'Roasted chickpeas', 'name': 'Brenda', 'rating': 5, 'review': 'Great savory snack, short prep time, loved it!'}, {'food_item': 'Roasted chickpeas', 'name': 'Amanda S.', 'rating': 5, 'review': 'This is fantastic to add to salads. Realy easy and delicious. Add cashews or other nuts for variety.'}, {'food_item': 'Roasted chickpeas', 'name': 'Amanda S.', 'rating': 5, 'review': 'This is fantastic to add to salads. Realy easy and delicious. Add cashews or other nuts for variety.'}, {'food_item': 'Roasted chickpeas', 'name': 'Amanda S.', 'rating': 5, 'review': 'This is fantastic to add to salads. Realy easy and delicious. Add cashews or other nuts for variety.'}, {'food_item': 'Roasted chickpeas', 'name': 'Hyusein Arabadzhiev', 'rating': 2, 'review': 'The parmesan did not stick well to thw chickpeas'}, {'food_item': 'Roasted chickpeas', 'name': 'Hyusein Arabadzhiev', 'rating': 2, 'review': 'The parmesan did not stick well to thw chickpeas'}, {'food_item': 'Roasted chickpeas', 'name': 'Hyusein Arabadzhiev', 'rating': 2, 'review': 'The parmesan did not stick well to thw chickpeas'}, {'food_item': 'Roasted chickpeas', 'name': 'Naomi C.', 'rating': 4, 'review': 'a nice crunchy and suttley spicy snack'}, {'food_item': 'Roasted chickpeas', 'name': 'Naomi C.', 'rating': 4, 'review': 'a nice crunchy and suttley spicy snack'}, {'food_item': 'Roasted chickpeas', 'name': 'Naomi C.', 'rating': 4, 'review': 'a nice crunchy and suttley spicy snack'}, {'food_item': 'Roasted chickpeas', 'name': 'Sara Jane', 'rating': 3, 'review': 'Didn’t come out crispy. Will try again at another time.'}, {'food_item': 'Roasted chickpeas', 'name': 'Sara Jane', 'rating': 3, 'review': 'Didn’t come out crispy. Will try again at another time.'}, {'food_item': 'Roasted chickpeas', 'name': 'Sara Jane', 'rating': 3, 'review': 'Didn’t come out crispy. Will try again at another time.'}, {'food_item': 'Roasted chickpeas', 'name': 'Kaidi', 'rating': 5, 'review': 'Added garlic powder, onion powder and turmeric. Absolutely delicious!'}, {'food_item': 'Roasted chickpeas', 'name': 'Kaidi', 'rating': 5, 'review': 'Added garlic powder, onion powder and turmeric. Absolutely delicious!'}, {'food_item': 'Roasted chickpeas', 'name': 'Kaidi', 'rating': 5, 'review': 'Added garlic powder, onion powder and turmeric. Absolutely delicious!'}, {'food_item': 'Roasted chickpeas', 'name': 'Liz ;)', 'rating': 5, 'review': \"they were very good! in my opinion they didn't have that much flavor so i added cinnamon sugar and they tasted much better\"}, {'food_item': 'Roasted chickpeas', 'name': 'Liz ;)', 'rating': 5, 'review': \"they were very good! in my opinion they didn't have that much flavor so i added cinnamon sugar and they tasted much better\"}, {'food_item': 'Roasted chickpeas', 'name': 'Liz ;)', 'rating': 5, 'review': \"they were very good! in my opinion they didn't have that much flavor so i added cinnamon sugar and they tasted much better\"}, {'food_item': 'Roasted chickpeas', 'name': 'Karen', 'rating': 4, 'review': 'They’re not chips but a good solution to a midweek craving 👍'}, {'food_item': 'Roasted chickpeas', 'name': 'Hello Maria', 'rating': 5, 'review': 'Really Yummy! A healthy snack'}, {'food_item': 'Roasted chickpeas', 'name': 'Eri Hook', 'rating': 5, 'review': 'Yum! I added some green onion for color and additional taste, along with some red pepper flakes. I added the roasted chickpeas to homemade pasta - so good!'}, {'food_item': 'Roasted chickpeas', 'name': 'Karen', 'rating': 4, 'review': 'They’re not chips but a good solution to a midweek craving 👍'}, {'food_item': 'Roasted chickpeas', 'name': 'Hello Maria', 'rating': 5, 'review': 'Really Yummy! A healthy snack'}, {'food_item': 'Roasted chickpeas', 'name': 'Eri Hook', 'rating': 5, 'review': 'Yum! I added some green onion for color and additional taste, along with some red pepper flakes. I added the roasted chickpeas to homemade pasta - so good!'}, {'food_item': 'Roasted chickpeas', 'name': 'Karen', 'rating': 4, 'review': 'They’re not chips but a good solution to a midweek craving 👍'}, {'food_item': 'Roasted chickpeas', 'name': 'Hello Maria', 'rating': 5, 'review': 'Really Yummy! A healthy snack'}, {'food_item': 'Roasted chickpeas', 'name': 'Eri Hook', 'rating': 5, 'review': 'Yum! I added some green onion for color and additional taste, along with some red pepper flakes. I added the roasted chickpeas to homemade pasta - so good!'}, {'food_item': 'Roasted chickpeas', 'name': 'Gary', 'rating': 4, 'review': 'Not bad dried them well cooked longer to crisp up'}, {'food_item': 'Roasted chickpeas', 'name': 'Gary', 'rating': 4, 'review': 'Not bad dried them well cooked longer to crisp up'}, {'food_item': 'Roasted chickpeas', 'name': 'Gary', 'rating': 4, 'review': 'Not bad dried them well cooked longer to crisp up'}, {'food_item': 'Roasted chickpeas', 'name': 'Lindsey H.', 'rating': 5, 'review': 'Delicious!! Will be making again for sure'}, {'food_item': 'Roasted chickpeas', 'name': 'Lindsey H.', 'rating': 5, 'review': 'Delicious!! Will be making again for sure'}, {'food_item': 'Roasted chickpeas', 'name': 'Lindsey H.', 'rating': 5, 'review': 'Delicious!! Will be making again for sure'}]\n"
     ]
    }
   ],
   "source": [
    "def getFoodReviews(food):\n",
    "    url=\"https://www.yummly.com/recipes?q=\"+food+\"&taste-pref-appended=true\"\n",
    "    response=br.open(url)\n",
    "    soup = BeautifulSoup(response.read(), 'html.parser')\n",
    "    recipeContainer=soup.find_all(\"div\",class_=\"RecipeContainer\")\n",
    "    #recipeContainer=soup.find_all(\"div\",class_=\"recipe-card ingredients-hover single-recipe visible\")\n",
    "    #print(len(recipeContainer))\n",
    "\n",
    "    foodContainer=recipeContainer[0].find_all(\"a\")\n",
    "    #print(foodContainer)\n",
    "    print(len(foodContainer))\n",
    "    reviews=[]\n",
    "    for i in range(len(foodContainer)):\n",
    "        #print(foodContainer)\n",
    "        foodCode=foodContainer[i][\"href\"]\n",
    "        if(not foodCode.startswith(\"/recipe/\")):\n",
    "            continue\n",
    "        print(foodCode)\n",
    "        #print(foodContainer[i][\"data-url\"])\n",
    "        url=\"https://www.yummly.com\"+foodCode\n",
    "        response=br.open(url)\n",
    "        soup=BeautifulSoup(response.read(),'html.parser')\n",
    "        cookbookDetails=soup.find(class_=\"recipe-details\")\n",
    "        \n",
    "        reviewUrl=\"https://www.yummly.com\"+foodCode+\"#reviews\"\n",
    "        response=br.open(reviewUrl)\n",
    "        soup=BeautifulSoup(response.read(),'html.parser')\n",
    "        allReviews=soup.find_all(\"div\",class_=\"review media\")\n",
    "\n",
    "\n",
    "        for eachReview in allReviews:\n",
    "            body=dict()\n",
    "            body[\"food_item\"]=food\n",
    "            body[\"name\"]=eachReview.find(class_=\"review-name\").find(\"a\").get_text()\n",
    "        #     reviewName=reviews[0].find_all(\"div\",class_=\"review-name\")\n",
    "            stars=eachReview.find(class_=\"review-rating\").find_all(\"span\")\n",
    "            cnt=0\n",
    "        #     print(stars)\n",
    "            for st in stars:\n",
    "                #print(st[\"class\"])\n",
    "                if(st[\"class\"][1].startswith(\"full-star\")):\n",
    "                    cnt+=1\n",
    "            body[\"rating\"]=cnt\n",
    "            body[\"review\"]=eachReview.find(class_=\"review-text font-normal p2-text\").get_text()\n",
    "            reviews.append(body)\n",
    "\n",
    "        #print(reviews)\n",
    "    return reviews\n",
    "x=getFoodReviews(\"Roasted chickpeas\")\n",
    "print(x)"
   ]
  },
  {
   "cell_type": "code",
   "execution_count": 165,
   "metadata": {},
   "outputs": [
    {
     "name": "stdout",
     "output_type": "stream",
     "text": [
      "[{'food_item': 'Dosa', 'name': 'Priya Shah', 'rating': 5, 'review': 'It turned out nice and soft. Awesome Recipe!! Love Yummly!!!!'}, {'food_item': 'Dosa', 'name': 'Priya Shah', 'rating': 5, 'review': 'It turned out nice and soft. Awesome Recipe!! Love Yummly!!!!'}, {'food_item': 'Dosa', 'name': 'Priya Shah', 'rating': 5, 'review': 'It turned out nice and soft. Awesome Recipe!! Love Yummly!!!!'}, {'food_item': 'Dosa', 'name': 'Carla Webster', 'rating': 5, 'review': 'GREAT 😄😄😄I Loved it'}, {'food_item': 'Dosa', 'name': 'Carla Webster', 'rating': 5, 'review': 'GREAT 😄😄😄I Loved it'}, {'food_item': 'Dosa', 'name': 'Carla Webster', 'rating': 5, 'review': 'GREAT 😄😄😄I Loved it'}]\n"
     ]
    }
   ],
   "source": [
    "print(x)"
   ]
  },
  {
   "cell_type": "code",
   "execution_count": null,
   "metadata": {},
   "outputs": [],
   "source": []
  }
 ],
 "metadata": {
  "kernelspec": {
   "display_name": "Python 3",
   "language": "python",
   "name": "python3"
  },
  "language_info": {
   "codemirror_mode": {
    "name": "ipython",
    "version": 3
   },
   "file_extension": ".py",
   "mimetype": "text/x-python",
   "name": "python",
   "nbconvert_exporter": "python",
   "pygments_lexer": "ipython3",
   "version": "3.6.9"
  }
 },
 "nbformat": 4,
 "nbformat_minor": 4
}
