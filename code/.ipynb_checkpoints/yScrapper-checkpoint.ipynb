{
 "cells": [
  {
   "cell_type": "code",
   "execution_count": 1,
   "metadata": {},
   "outputs": [],
   "source": [
    "import mechanize\n",
    "br = mechanize.Browser()"
   ]
  },
  {
   "cell_type": "code",
   "execution_count": 2,
   "metadata": {},
   "outputs": [],
   "source": [
    "food=\"dosa\"\n",
    "url=\"https://www.yummly.com/recipes?q=\"+food+\"&taste-pref-appended=true\"\n",
    "response=br.open(url)"
   ]
  },
  {
   "cell_type": "code",
   "execution_count": 3,
   "metadata": {},
   "outputs": [],
   "source": [
    "from bs4 import BeautifulSoup\n",
    "soup = BeautifulSoup(response.read(), 'html.parser')"
   ]
  },
  {
   "cell_type": "code",
   "execution_count": 4,
   "metadata": {},
   "outputs": [],
   "source": [
    "recipeContainer=soup.find_all(\"div\",class_=\"RecipeContainer\")"
   ]
  },
  {
   "cell_type": "code",
   "execution_count": 5,
   "metadata": {},
   "outputs": [],
   "source": [
    "foodContainer=recipeContainer[0].find(class_=\"recipe-card ingredients-hover single-recipe\")"
   ]
  },
  {
   "cell_type": "code",
   "execution_count": 6,
   "metadata": {},
   "outputs": [
    {
     "name": "stdout",
     "output_type": "stream",
     "text": [
      "<div class=\"recipe-card ingredients-hover single-recipe\" data-url=\"Dosa-1100398\" role=\"link\"><div class=\"recipe-card-img-wrapper\"><img class=\"recipe-card-img\" src=\"https://x.yummlystatic.com/s/ead09e96b/img/1x1.png\"/><img class=\"recipe-card-img placeholder\" src=\"https://x.yummlystatic.com/s/ead09e96b/img/1x1.png\"/><a aria-label=\"Dosa\" class=\"card-ingredients font-light micro-text flex-column\" href=\"/recipe/Dosa-1100398\" tabindex=\"-1\" title=\"Dosa\"><span title=\"urad dal, water, rice, poha, fenugreek seeds, salt\">urad dal, water, rice, poha, fenugreek seeds, salt</span></a></div><a aria-label=\"Dosa\" class=\"link-overlay\" href=\"/recipe/Dosa-1100398\" tabindex=\"-1\" title=\"Dosa\"></a><div class=\"card-info-wrapper flex-row\"><div class=\"card-info primary-dark\"><a aria-label=\"Dosa\" class=\"card-title p2-text font-normal\" href=\"/recipe/Dosa-1100398\" title=\"Dosa\">Dosa</a><span class=\"card-source micro-text font-normal greyscale-2\"><a aria-label=\"Revi's Foodography\" class=\"source-link truncate-single-line\" href=\"/page/revisfoodography\" title=\"Revi's Foodography\">Revi's Foodography</a></span></div><div class=\"yum-button-wrapper\"></div></div></div>\n"
     ]
    }
   ],
   "source": [
    "print(foodContainer)"
   ]
  },
  {
   "cell_type": "code",
   "execution_count": 7,
   "metadata": {},
   "outputs": [
    {
     "data": {
      "text/plain": [
       "'Dosa-1100398'"
      ]
     },
     "execution_count": 7,
     "metadata": {},
     "output_type": "execute_result"
    }
   ],
   "source": [
    "foodContainer[\"data-url\"]"
   ]
  },
  {
   "cell_type": "code",
   "execution_count": 8,
   "metadata": {},
   "outputs": [],
   "source": [
    "url=\"https://www.yummly.com/recipe/\"+foodContainer[\"data-url\"]"
   ]
  },
  {
   "cell_type": "code",
   "execution_count": 9,
   "metadata": {},
   "outputs": [],
   "source": [
    "response=br.open(url)"
   ]
  },
  {
   "cell_type": "code",
   "execution_count": 10,
   "metadata": {},
   "outputs": [],
   "source": [
    "soup=BeautifulSoup(response.read(),'html.parser')"
   ]
  },
  {
   "cell_type": "code",
   "execution_count": 11,
   "metadata": {},
   "outputs": [],
   "source": [
    "cookbookDetails=soup.find(class_=\"recipe-details\")"
   ]
  },
  {
   "cell_type": "code",
   "execution_count": 12,
   "metadata": {},
   "outputs": [
    {
     "data": {
      "text/plain": [
       "<div class=\"recipe-details\"><div class=\"primary-info-text\"><div class=\"primary-info-left-wrapper\"><h1 class=\"recipe-title font-bold h2-text primary-dark\">Dosa</h1><span class=\"attribution\"><a aria-label=\"REVI's FOODOGRAPHY\" class=\"source-link font-bold micro-text greyscale-3\" href=\"/page/revisfoodography\" title=\"REVI's FOODOGRAPHY\">REVI'S FOODOGRAPHY</a></span><a aria-label=\"See Reviews\" class=\"recipe-details-rating p2-text primary-orange\" href=\"#reviews\" title=\"See Reviews\"><span class=\"icon full-star y-icon\" data-icon=\"\" data-star-number=\"1\"></span><span class=\"icon full-star y-icon\" data-icon=\"\" data-star-number=\"2\"></span><span class=\"icon full-star y-icon\" data-icon=\"\" data-star-number=\"3\"></span><span class=\"icon full-star y-icon\" data-icon=\"\" data-star-number=\"4\"></span><span class=\"icon full-star y-icon\" data-icon=\"\" data-star-number=\"5\"></span><span class=\"count font-bold micro-text\">(1)</span></a></div></div><div class=\"review-snippet media\"><div class=\"review-content font-normal p2-text\"><a aria-label=\"Priya Shah\" class=\"reviewer-name font-bold\" href=\"/profile/PriyaShah7\" title=\"Priya Shah\">Priya Shah</a>: \"It turned out nice and soft. Awesome Recipe!! Lov…\" <a aria-label=\"Read More\" class=\"review-link font-bold p3-text primary-teal\" href=\"#821dfa55-7809-4e08-b797-86ea65bbac8a\" title=\"Read More\">Read More</a></div></div><div class=\"summary-item-wrapper\"><div class=\"recipe-summary-item h2-text\"><span class=\"value font-light h2-text\">6</span><span class=\"unit font-normal p3-text\">Ingredients</span></div><div class=\"recipe-summary-item unit h2-text\"><span class=\"value font-light h2-text\">14</span><span class=\"unit font-normal p3-text\">Hours</span></div><div class=\"recipe-summary-item nutrition h2-text\"><span class=\"value font-light h2-text\">360</span><span class=\"unit font-normal p3-text\">Calories</span></div></div><div class=\"recipe-interactions-wrapper\"><a aria-label=\"Read Directions\" class=\"read-dir-btn btn-primary wrapper recipe-summary-full-directions p1-text\" href=\"#directions\" title=\"Read Directions\"><span class=\"p3-text\">Read Directions</span></a><div class=\"recipe-details-yum-button yum-button-wrapper\"></div></div></div>"
      ]
     },
     "execution_count": 12,
     "metadata": {},
     "output_type": "execute_result"
    }
   ],
   "source": [
    "cookbookDetails\n"
   ]
  },
  {
   "cell_type": "code",
   "execution_count": 13,
   "metadata": {},
   "outputs": [],
   "source": [
    "reviewUrl=\"https://www.yummly.com/recipe/\"+foodContainer[\"data-url\"]+\"#reviews\""
   ]
  },
  {
   "cell_type": "code",
   "execution_count": 14,
   "metadata": {},
   "outputs": [],
   "source": [
    "response=br.open(reviewUrl)"
   ]
  },
  {
   "cell_type": "code",
   "execution_count": 15,
   "metadata": {},
   "outputs": [],
   "source": [
    "soup=BeautifulSoup(response.read(),'html.parser')"
   ]
  },
  {
   "cell_type": "code",
   "execution_count": 16,
   "metadata": {},
   "outputs": [
    {
     "name": "stdout",
     "output_type": "stream",
     "text": [
      "['icon', 'full-star', 'y-icon']\n",
      "['icon', 'full-star', 'y-icon']\n",
      "['icon', 'full-star', 'y-icon']\n",
      "['icon', 'full-star', 'y-icon']\n",
      "['icon', 'full-star', 'y-icon']\n",
      "[{'food_item': 'dosa', 'name': 'Priya Shah 2 years ago', 'rating': 5, 'review': 'It turned out nice and soft. Awesome Recipe!! Love Yummly!!!!'}]\n"
     ]
    }
   ],
   "source": [
    "allReviews=soup.find_all(\"div\",class_=\"review media\")\n",
    "reviews=[]\n",
    "\n",
    "for eachReview in allReviews:\n",
    "    body=dict()\n",
    "    body[\"food_item\"]=food\n",
    "    body[\"name\"]=eachReview.find(class_=\"review-name\").get_text()\n",
    "#     reviewName=reviews[0].find_all(\"div\",class_=\"review-name\")\n",
    "    stars=eachReview.find(class_=\"review-rating\").find_all(\"span\")\n",
    "    cnt=0\n",
    "#     print(stars)\n",
    "    for st in stars:\n",
    "        print(st[\"class\"])\n",
    "        if(st[\"class\"][1].startswith(\"full-star\")):\n",
    "            cnt+=1\n",
    "    body[\"rating\"]=cnt\n",
    "    body[\"review\"]=eachReview.find(class_=\"review-text font-normal p2-text\").get_text()\n",
    "    reviews.append(body)\n",
    "\n",
    "print(reviews)\n"
   ]
  },
  {
   "cell_type": "code",
   "execution_count": 17,
   "metadata": {},
   "outputs": [
    {
     "name": "stdout",
     "output_type": "stream",
     "text": [
      "Dosa-1100398\n",
      "[{'food_item': 'dosa', 'name': 'Priya Shah 2 years ago', 'rating': 5, 'review': 'It turned out nice and soft. Awesome Recipe!! Love Yummly!!!!'}]\n"
     ]
    }
   ],
   "source": [
    "def getFoodReviews(food):\n",
    "    url=\"https://www.yummly.com/recipes?q=\"+food+\"&taste-pref-appended=true\"\n",
    "    response=br.open(url)\n",
    "    soup = BeautifulSoup(response.read(), 'html.parser')\n",
    "    recipeContainer=soup.find_all(\"div\",class_=\"RecipeContainer\")\n",
    "    #recipeContainer=soup.find_all(\"div\",class_=\"recipe-card ingredients-hover single-recipe visible\")\n",
    "   #print(recipeContainer)\n",
    "    foodContainer=recipeContainer[0].find_all(\"div\")\n",
    "    #print(foodContainer)\n",
    "    foodCode=foodContainer[0][\"data-url\"]\n",
    "    print(foodContainer[0][\"data-url\"])\n",
    "    url=\"https://www.yummly.com/recipe/\"+foodCode\n",
    "    response=br.open(url)\n",
    "    soup=BeautifulSoup(response.read(),'html.parser')\n",
    "    cookbookDetails=soup.find(class_=\"recipe-details\")\n",
    "    reviewUrl=\"https://www.yummly.com/recipe/\"+foodCode+\"#reviews\"\n",
    "    response=br.open(reviewUrl)\n",
    "    soup=BeautifulSoup(response.read(),'html.parser')\n",
    "    allReviews=soup.find_all(\"div\",class_=\"review media\")\n",
    "    reviews=[]\n",
    "\n",
    "    for eachReview in allReviews:\n",
    "        body=dict()\n",
    "        body[\"food_item\"]=food\n",
    "        body[\"name\"]=eachReview.find(class_=\"review-name\").get_text()\n",
    "    #     reviewName=reviews[0].find_all(\"div\",class_=\"review-name\")\n",
    "        stars=eachReview.find(class_=\"review-rating\").find_all(\"span\")\n",
    "        cnt=0\n",
    "    #     print(stars)\n",
    "        for st in stars:\n",
    "            #print(st[\"class\"])\n",
    "            if(st[\"class\"][1].startswith(\"full-star\")):\n",
    "                cnt+=1\n",
    "        body[\"rating\"]=cnt\n",
    "        body[\"review\"]=eachReview.find(class_=\"review-text font-normal p2-text\").get_text()\n",
    "        reviews.append(body)\n",
    "\n",
    "    print(reviews)\n",
    "    return reviews\n",
    "x=getFoodReviews(\"dosa\")\n",
    "\n",
    "\n"
   ]
  },
  {
   "cell_type": "code",
   "execution_count": 21,
   "metadata": {
    "scrolled": false
   },
   "outputs": [
    {
     "name": "stdout",
     "output_type": "stream",
     "text": [
      "veg+manchurian\n",
      "https://www.yummly.com/recipes?q=veg+manchurian&taste-pref-appended=true\n",
      "[]\n"
     ]
    },
    {
     "ename": "IndexError",
     "evalue": "list index out of range",
     "output_type": "error",
     "traceback": [
      "\u001b[1;31m---------------------------------------------------------------------------\u001b[0m",
      "\u001b[1;31mIndexError\u001b[0m                                Traceback (most recent call last)",
      "\u001b[1;32m<ipython-input-21-7c5e504dc3ac>\u001b[0m in \u001b[0;36m<module>\u001b[1;34m\u001b[0m\n\u001b[0;32m     54\u001b[0m         \u001b[1;31m#print(reviews)\u001b[0m\u001b[1;33m\u001b[0m\u001b[1;33m\u001b[0m\u001b[1;33m\u001b[0m\u001b[0m\n\u001b[0;32m     55\u001b[0m     \u001b[1;32mreturn\u001b[0m \u001b[0mreviews\u001b[0m\u001b[1;33m\u001b[0m\u001b[1;33m\u001b[0m\u001b[0m\n\u001b[1;32m---> 56\u001b[1;33m \u001b[0mx\u001b[0m\u001b[1;33m=\u001b[0m\u001b[0mgetFoodReviews\u001b[0m\u001b[1;33m(\u001b[0m\u001b[1;34m\"veg manchurian\"\u001b[0m\u001b[1;33m)\u001b[0m\u001b[1;33m\u001b[0m\u001b[1;33m\u001b[0m\u001b[0m\n\u001b[0m\u001b[0;32m     57\u001b[0m \u001b[1;31m#print(x)\u001b[0m\u001b[1;33m\u001b[0m\u001b[1;33m\u001b[0m\u001b[1;33m\u001b[0m\u001b[0m\n",
      "\u001b[1;32m<ipython-input-21-7c5e504dc3ac>\u001b[0m in \u001b[0;36mgetFoodReviews\u001b[1;34m(food)\u001b[0m\n\u001b[0;32m     15\u001b[0m \u001b[1;33m\u001b[0m\u001b[0m\n\u001b[0;32m     16\u001b[0m     \u001b[0mrecipeContainer\u001b[0m\u001b[1;33m=\u001b[0m\u001b[0msoup\u001b[0m\u001b[1;33m.\u001b[0m\u001b[0mfind_all\u001b[0m\u001b[1;33m(\u001b[0m\u001b[1;34m\"div\"\u001b[0m\u001b[1;33m,\u001b[0m\u001b[0mclass_\u001b[0m\u001b[1;33m=\u001b[0m\u001b[1;34m\"RecipeContainer\"\u001b[0m\u001b[1;33m)\u001b[0m\u001b[1;33m\u001b[0m\u001b[1;33m\u001b[0m\u001b[0m\n\u001b[1;32m---> 17\u001b[1;33m     \u001b[0mfoodContainer\u001b[0m\u001b[1;33m=\u001b[0m\u001b[0mrecipeContainer\u001b[0m\u001b[1;33m[\u001b[0m\u001b[1;36m0\u001b[0m\u001b[1;33m]\u001b[0m\u001b[1;33m.\u001b[0m\u001b[0mfind_all\u001b[0m\u001b[1;33m(\u001b[0m\u001b[1;34m\"a\"\u001b[0m\u001b[1;33m)\u001b[0m\u001b[1;33m\u001b[0m\u001b[1;33m\u001b[0m\u001b[0m\n\u001b[0m\u001b[0;32m     18\u001b[0m \u001b[1;33m\u001b[0m\u001b[0m\n\u001b[0;32m     19\u001b[0m \u001b[1;33m\u001b[0m\u001b[0m\n",
      "\u001b[1;31mIndexError\u001b[0m: list index out of range"
     ]
    }
   ],
   "source": [
    "def getFoodReviews(food):\n",
    "    food=food.replace(\" \",\"+\")\n",
    "    print(food)\n",
    "    url=\"https://www.yummly.com/recipes?q=\"+food+\"&taste-pref-appended=true\"\n",
    "    print(url)\n",
    "    response=br.open(url)\n",
    "    soup = BeautifulSoup(response.read(), 'html.parser')\n",
    "    #print(soup)\n",
    "    recipeContainer=soup.find_all(\"div\",class_=\"RecipeContainer\")\n",
    "    #recipeContainer=soup.find_all(\"div\",class_=\"recipe-card ingredients-hover single-recipe visible\")\n",
    "    print(len(recipeContainer))\n",
    "    \n",
    "    foodContainer=recipeContainer[0].find_all(\"a\")\n",
    "    #print(foodContainer)\n",
    "    #print(len(foodContainer))\n",
    "    reviews=[]\n",
    "    for i in range(len(foodContainer)):\n",
    "        #print(foodContainer)\n",
    "        foodCode=foodContainer[i][\"href\"]\n",
    "        if(not foodCode.startswith(\"/recipe/\")):\n",
    "            continue\n",
    "        print(foodCode)\n",
    "        #print(foodContainer[i][\"data-url\"])\n",
    "        url=\"https://www.yummly.com\"+foodCode\n",
    "        response=br.open(url)\n",
    "        soup=BeautifulSoup(response.read(),'html.parser')\n",
    "        cookbookDetails=soup.find(class_=\"recipe-details\")\n",
    "        \n",
    "        reviewUrl=\"https://www.yummly.com\"+foodCode+\"#reviews\"\n",
    "        response=br.open(reviewUrl)\n",
    "        soup=BeautifulSoup(response.read(),'html.parser')\n",
    "        allReviews=soup.find_all(\"div\",class_=\"review media\")\n",
    "\n",
    "\n",
    "        for eachReview in allReviews:\n",
    "            body=dict()\n",
    "            body[\"food_item\"]=food\n",
    "            body[\"name\"]=eachReview.find(class_=\"review-name\").find(\"a\").get_text()\n",
    "        #     reviewName=reviews[0].find_all(\"div\",class_=\"review-name\")\n",
    "            stars=eachReview.find(class_=\"review-rating\").find_all(\"span\")\n",
    "            cnt=0\n",
    "        #     print(stars)\n",
    "            for st in stars:\n",
    "                #print(st[\"class\"])\n",
    "                if(st[\"class\"][1].startswith(\"full-star\")):\n",
    "                    cnt+=1\n",
    "            body[\"rating\"]=cnt\n",
    "            body[\"review\"]=eachReview.find(class_=\"review-text font-normal p2-text\").get_text()\n",
    "            reviews.append(body)\n",
    "\n",
    "        #print(reviews)\n",
    "    return reviews\n",
    "x=getFoodReviews(\"veg manchurian\")\n",
    "#print(x)"
   ]
  },
  {
   "cell_type": "code",
   "execution_count": 165,
   "metadata": {},
   "outputs": [
    {
     "name": "stdout",
     "output_type": "stream",
     "text": [
      "[{'food_item': 'Dosa', 'name': 'Priya Shah', 'rating': 5, 'review': 'It turned out nice and soft. Awesome Recipe!! Love Yummly!!!!'}, {'food_item': 'Dosa', 'name': 'Priya Shah', 'rating': 5, 'review': 'It turned out nice and soft. Awesome Recipe!! Love Yummly!!!!'}, {'food_item': 'Dosa', 'name': 'Priya Shah', 'rating': 5, 'review': 'It turned out nice and soft. Awesome Recipe!! Love Yummly!!!!'}, {'food_item': 'Dosa', 'name': 'Carla Webster', 'rating': 5, 'review': 'GREAT 😄😄😄I Loved it'}, {'food_item': 'Dosa', 'name': 'Carla Webster', 'rating': 5, 'review': 'GREAT 😄😄😄I Loved it'}, {'food_item': 'Dosa', 'name': 'Carla Webster', 'rating': 5, 'review': 'GREAT 😄😄😄I Loved it'}]\n"
     ]
    }
   ],
   "source": [
    "print(x)"
   ]
  },
  {
   "cell_type": "code",
   "execution_count": 10,
   "metadata": {},
   "outputs": [
    {
     "data": {
      "text/plain": [
       "['.ipynb_checkpoints',\n",
       " 'dishName.txt',\n",
       " 'getChemCompAndFlavours.py',\n",
       " 'getReviews.py',\n",
       " 'mainReview.py',\n",
       " 'reviewDataset',\n",
       " 'scrapeReviews.py',\n",
       " 'uniqueDishName.txt',\n",
       " 'yScrapper.ipynb',\n",
       " '__pycache__']"
      ]
     },
     "execution_count": 10,
     "metadata": {},
     "output_type": "execute_result"
    }
   ],
   "source": [
    "import os\n",
    "os.listdir()"
   ]
  },
  {
   "cell_type": "code",
   "execution_count": 14,
   "metadata": {},
   "outputs": [],
   "source": [
    "srcFile=open(\"uniqueDishName.txt\",\"r\")\n",
    "data=srcFile.readlines()\n",
    "cnt=1\n",
    "for i in range(0,len(data),122):\n",
    "    destFile=open(str(cnt)+\".txt\",\"w\")\n",
    "    try:\n",
    "        destFile.write(\"\".join(data[i:i+112]))\n",
    "    except:\n",
    "        destFile.write(\"\".join(data[i:]))\n",
    "    cnt+=1\n",
    "        "
   ]
  },
  {
   "cell_type": "code",
   "execution_count": 15,
   "metadata": {},
   "outputs": [
    {
     "data": {
      "text/plain": [
       "['.ipynb_checkpoints',\n",
       " '1.txt',\n",
       " '2.txt',\n",
       " '3.txt',\n",
       " '4.txt',\n",
       " '5.txt',\n",
       " '6.txt',\n",
       " '7.txt',\n",
       " '8.txt',\n",
       " '9.txt',\n",
       " 'dishName.txt',\n",
       " 'getChemCompAndFlavours.py',\n",
       " 'getReviews.py',\n",
       " 'mainReview.py',\n",
       " 'reviewDataset',\n",
       " 'scrapeReviews.py',\n",
       " 'uniqueDishName.txt',\n",
       " 'yScrapper.ipynb',\n",
       " '__pycache__']"
      ]
     },
     "execution_count": 15,
     "metadata": {},
     "output_type": "execute_result"
    }
   ],
   "source": [
    "os.listdir()\n"
   ]
  },
  {
   "cell_type": "code",
   "execution_count": null,
   "metadata": {},
   "outputs": [],
   "source": []
  }
 ],
 "metadata": {
  "kernelspec": {
   "display_name": "Python 3",
   "language": "python",
   "name": "python3"
  },
  "language_info": {
   "codemirror_mode": {
    "name": "ipython",
    "version": 3
   },
   "file_extension": ".py",
   "mimetype": "text/x-python",
   "name": "python",
   "nbconvert_exporter": "python",
   "pygments_lexer": "ipython3",
   "version": "3.6.9"
  }
 },
 "nbformat": 4,
 "nbformat_minor": 4
}
